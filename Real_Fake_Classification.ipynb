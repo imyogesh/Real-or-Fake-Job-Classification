{
 "cells": [
  {
   "cell_type": "markdown",
   "metadata": {},
   "source": [
    "# Fake or real Job Classification\n",
    "- Data Shape: rows: 17880, columns: 17\n",
    "- Missing data Percentage: 27.84%\n",
    "\n",
    "- Goal : Classify Real or Fake job applications\n",
    "\n",
    "- Evaluation Metric: ROC - AUC\n",
    "\n",
    "\n"
   ]
  },
  {
   "cell_type": "markdown",
   "metadata": {},
   "source": [
    "# Results\n",
    "\n",
    "Best Model: XGBoost Classfier\n",
    "\n",
    "Best Mean Cross Validation Score is 0.9577\n",
    "Best Mean Cross Validation Score is {'learning_rate': 0.5, 'max_depth': 6, 'min_child_weight': 1, 'n_estimators': 100, 'subsample': 0.7}\n",
    "Train score is 0.9688\n",
    "Test score is 0.9666"
   ]
  },
  {
   "cell_type": "code",
   "execution_count": 1,
   "metadata": {},
   "outputs": [],
   "source": [
    "import numpy as np\n",
    "import matplotlib.pyplot as plt\n",
    "import pandas as pd\n",
    "import seaborn as sns\n",
    "%matplotlib inline\n",
    "import warnings\n",
    "warnings.filterwarnings(\"ignore\")"
   ]
  },
  {
   "cell_type": "code",
   "execution_count": 2,
   "metadata": {},
   "outputs": [],
   "source": [
    "from sklearn.model_selection import train_test_split\n",
    "from sklearn.tree import DecisionTreeClassifier\n",
    "# from feature-engine\n",
    "from feature_engine import missing_data_imputers as mdi\n",
    "# for one hot encoding with feature-engine\n",
    "from feature_engine.categorical_encoders import OneHotCategoricalEncoder\n",
    "from feature_engine.categorical_encoders import RareLabelCategoricalEncoder\n",
    "from sklearn.pipeline import Pipeline as skpipe"
   ]
  },
  {
   "cell_type": "code",
   "execution_count": 3,
   "metadata": {},
   "outputs": [],
   "source": [
    "from sklearn.linear_model import LogisticRegression\n",
    "from sklearn.model_selection import cross_val_score\n",
    "from sklearn.model_selection import GridSearchCV\n",
    "from sklearn.linear_model import Ridge\n",
    "from sklearn.linear_model import Lasso\n",
    "from sklearn.neighbors import KNeighborsClassifier\n",
    "from sklearn.tree import DecisionTreeClassifier\n",
    "from sklearn.svm import SVC\n",
    "from sklearn.svm import SVC, LinearSVC\n",
    "from sklearn.ensemble import BaggingClassifier\n",
    "from sklearn.ensemble import RandomForestClassifier\n",
    "from  sklearn.ensemble import ExtraTreesClassifier\n",
    "from sklearn.ensemble import AdaBoostClassifier\n",
    "from  sklearn.ensemble import GradientBoostingClassifier\n",
    "from xgboost import XGBClassifier\n",
    "from sklearn.ensemble import VotingClassifier\n",
    "from sklearn.ensemble import StackingClassifier"
   ]
  },
  {
   "cell_type": "markdown",
   "metadata": {},
   "source": [
    "# Data Loading and Exploration"
   ]
  },
  {
   "cell_type": "code",
   "execution_count": 4,
   "metadata": {},
   "outputs": [],
   "source": [
    "# load data\n",
    "\n",
    "data=pd.read_csv('fake_job_postings.csv')"
   ]
  },
  {
   "cell_type": "code",
   "execution_count": 5,
   "metadata": {},
   "outputs": [],
   "source": [
    "df=data.copy()"
   ]
  },
  {
   "cell_type": "code",
   "execution_count": 5,
   "metadata": {},
   "outputs": [
    {
     "data": {
      "text/html": [
       "<div>\n",
       "<style scoped>\n",
       "    .dataframe tbody tr th:only-of-type {\n",
       "        vertical-align: middle;\n",
       "    }\n",
       "\n",
       "    .dataframe tbody tr th {\n",
       "        vertical-align: top;\n",
       "    }\n",
       "\n",
       "    .dataframe thead th {\n",
       "        text-align: right;\n",
       "    }\n",
       "</style>\n",
       "<table border=\"1\" class=\"dataframe\">\n",
       "  <thead>\n",
       "    <tr style=\"text-align: right;\">\n",
       "      <th></th>\n",
       "      <th>job_id</th>\n",
       "      <th>title</th>\n",
       "      <th>location</th>\n",
       "      <th>department</th>\n",
       "      <th>salary_range</th>\n",
       "      <th>company_profile</th>\n",
       "      <th>description</th>\n",
       "      <th>requirements</th>\n",
       "      <th>benefits</th>\n",
       "      <th>telecommuting</th>\n",
       "      <th>has_company_logo</th>\n",
       "      <th>has_questions</th>\n",
       "      <th>employment_type</th>\n",
       "      <th>required_experience</th>\n",
       "      <th>required_education</th>\n",
       "      <th>industry</th>\n",
       "      <th>function</th>\n",
       "      <th>fraudulent</th>\n",
       "    </tr>\n",
       "  </thead>\n",
       "  <tbody>\n",
       "    <tr>\n",
       "      <th>0</th>\n",
       "      <td>1</td>\n",
       "      <td>Marketing Intern</td>\n",
       "      <td>US, NY, New York</td>\n",
       "      <td>Marketing</td>\n",
       "      <td>NaN</td>\n",
       "      <td>We're Food52, and we've created a groundbreaki...</td>\n",
       "      <td>Food52, a fast-growing, James Beard Award-winn...</td>\n",
       "      <td>Experience with content management systems a m...</td>\n",
       "      <td>NaN</td>\n",
       "      <td>0</td>\n",
       "      <td>1</td>\n",
       "      <td>0</td>\n",
       "      <td>Other</td>\n",
       "      <td>Internship</td>\n",
       "      <td>NaN</td>\n",
       "      <td>NaN</td>\n",
       "      <td>Marketing</td>\n",
       "      <td>0</td>\n",
       "    </tr>\n",
       "    <tr>\n",
       "      <th>1</th>\n",
       "      <td>2</td>\n",
       "      <td>Customer Service - Cloud Video Production</td>\n",
       "      <td>NZ, , Auckland</td>\n",
       "      <td>Success</td>\n",
       "      <td>NaN</td>\n",
       "      <td>90 Seconds, the worlds Cloud Video Production ...</td>\n",
       "      <td>Organised - Focused - Vibrant - Awesome!Do you...</td>\n",
       "      <td>What we expect from you:Your key responsibilit...</td>\n",
       "      <td>What you will get from usThrough being part of...</td>\n",
       "      <td>0</td>\n",
       "      <td>1</td>\n",
       "      <td>0</td>\n",
       "      <td>Full-time</td>\n",
       "      <td>Not Applicable</td>\n",
       "      <td>NaN</td>\n",
       "      <td>Marketing and Advertising</td>\n",
       "      <td>Customer Service</td>\n",
       "      <td>0</td>\n",
       "    </tr>\n",
       "    <tr>\n",
       "      <th>2</th>\n",
       "      <td>3</td>\n",
       "      <td>Commissioning Machinery Assistant (CMA)</td>\n",
       "      <td>US, IA, Wever</td>\n",
       "      <td>NaN</td>\n",
       "      <td>NaN</td>\n",
       "      <td>Valor Services provides Workforce Solutions th...</td>\n",
       "      <td>Our client, located in Houston, is actively se...</td>\n",
       "      <td>Implement pre-commissioning and commissioning ...</td>\n",
       "      <td>NaN</td>\n",
       "      <td>0</td>\n",
       "      <td>1</td>\n",
       "      <td>0</td>\n",
       "      <td>NaN</td>\n",
       "      <td>NaN</td>\n",
       "      <td>NaN</td>\n",
       "      <td>NaN</td>\n",
       "      <td>NaN</td>\n",
       "      <td>0</td>\n",
       "    </tr>\n",
       "    <tr>\n",
       "      <th>3</th>\n",
       "      <td>4</td>\n",
       "      <td>Account Executive - Washington DC</td>\n",
       "      <td>US, DC, Washington</td>\n",
       "      <td>Sales</td>\n",
       "      <td>NaN</td>\n",
       "      <td>Our passion for improving quality of life thro...</td>\n",
       "      <td>THE COMPANY: ESRI – Environmental Systems Rese...</td>\n",
       "      <td>EDUCATION: Bachelor’s or Master’s in GIS, busi...</td>\n",
       "      <td>Our culture is anything but corporate—we have ...</td>\n",
       "      <td>0</td>\n",
       "      <td>1</td>\n",
       "      <td>0</td>\n",
       "      <td>Full-time</td>\n",
       "      <td>Mid-Senior level</td>\n",
       "      <td>Bachelor's Degree</td>\n",
       "      <td>Computer Software</td>\n",
       "      <td>Sales</td>\n",
       "      <td>0</td>\n",
       "    </tr>\n",
       "    <tr>\n",
       "      <th>4</th>\n",
       "      <td>5</td>\n",
       "      <td>Bill Review Manager</td>\n",
       "      <td>US, FL, Fort Worth</td>\n",
       "      <td>NaN</td>\n",
       "      <td>NaN</td>\n",
       "      <td>SpotSource Solutions LLC is a Global Human Cap...</td>\n",
       "      <td>JOB TITLE: Itemization Review ManagerLOCATION:...</td>\n",
       "      <td>QUALIFICATIONS:RN license in the State of Texa...</td>\n",
       "      <td>Full Benefits Offered</td>\n",
       "      <td>0</td>\n",
       "      <td>1</td>\n",
       "      <td>1</td>\n",
       "      <td>Full-time</td>\n",
       "      <td>Mid-Senior level</td>\n",
       "      <td>Bachelor's Degree</td>\n",
       "      <td>Hospital &amp; Health Care</td>\n",
       "      <td>Health Care Provider</td>\n",
       "      <td>0</td>\n",
       "    </tr>\n",
       "  </tbody>\n",
       "</table>\n",
       "</div>"
      ],
      "text/plain": [
       "   job_id                                      title            location  \\\n",
       "0       1                           Marketing Intern    US, NY, New York   \n",
       "1       2  Customer Service - Cloud Video Production      NZ, , Auckland   \n",
       "2       3    Commissioning Machinery Assistant (CMA)       US, IA, Wever   \n",
       "3       4          Account Executive - Washington DC  US, DC, Washington   \n",
       "4       5                        Bill Review Manager  US, FL, Fort Worth   \n",
       "\n",
       "  department salary_range                                    company_profile  \\\n",
       "0  Marketing          NaN  We're Food52, and we've created a groundbreaki...   \n",
       "1    Success          NaN  90 Seconds, the worlds Cloud Video Production ...   \n",
       "2        NaN          NaN  Valor Services provides Workforce Solutions th...   \n",
       "3      Sales          NaN  Our passion for improving quality of life thro...   \n",
       "4        NaN          NaN  SpotSource Solutions LLC is a Global Human Cap...   \n",
       "\n",
       "                                         description  \\\n",
       "0  Food52, a fast-growing, James Beard Award-winn...   \n",
       "1  Organised - Focused - Vibrant - Awesome!Do you...   \n",
       "2  Our client, located in Houston, is actively se...   \n",
       "3  THE COMPANY: ESRI – Environmental Systems Rese...   \n",
       "4  JOB TITLE: Itemization Review ManagerLOCATION:...   \n",
       "\n",
       "                                        requirements  \\\n",
       "0  Experience with content management systems a m...   \n",
       "1  What we expect from you:Your key responsibilit...   \n",
       "2  Implement pre-commissioning and commissioning ...   \n",
       "3  EDUCATION: Bachelor’s or Master’s in GIS, busi...   \n",
       "4  QUALIFICATIONS:RN license in the State of Texa...   \n",
       "\n",
       "                                            benefits  telecommuting  \\\n",
       "0                                                NaN              0   \n",
       "1  What you will get from usThrough being part of...              0   \n",
       "2                                                NaN              0   \n",
       "3  Our culture is anything but corporate—we have ...              0   \n",
       "4                              Full Benefits Offered              0   \n",
       "\n",
       "   has_company_logo  has_questions employment_type required_experience  \\\n",
       "0                 1              0           Other          Internship   \n",
       "1                 1              0       Full-time      Not Applicable   \n",
       "2                 1              0             NaN                 NaN   \n",
       "3                 1              0       Full-time    Mid-Senior level   \n",
       "4                 1              1       Full-time    Mid-Senior level   \n",
       "\n",
       "  required_education                   industry              function  \\\n",
       "0                NaN                        NaN             Marketing   \n",
       "1                NaN  Marketing and Advertising      Customer Service   \n",
       "2                NaN                        NaN                   NaN   \n",
       "3  Bachelor's Degree          Computer Software                 Sales   \n",
       "4  Bachelor's Degree     Hospital & Health Care  Health Care Provider   \n",
       "\n",
       "   fraudulent  \n",
       "0           0  \n",
       "1           0  \n",
       "2           0  \n",
       "3           0  \n",
       "4           0  "
      ]
     },
     "execution_count": 5,
     "metadata": {},
     "output_type": "execute_result"
    }
   ],
   "source": [
    "data.head()"
   ]
  },
  {
   "cell_type": "code",
   "execution_count": 6,
   "metadata": {},
   "outputs": [
    {
     "name": "stdout",
     "output_type": "stream",
     "text": [
      "<class 'pandas.core.frame.DataFrame'>\n",
      "RangeIndex: 17880 entries, 0 to 17879\n",
      "Data columns (total 18 columns):\n",
      "job_id                 17880 non-null int64\n",
      "title                  17880 non-null object\n",
      "location               17534 non-null object\n",
      "department             6333 non-null object\n",
      "salary_range           2868 non-null object\n",
      "company_profile        14572 non-null object\n",
      "description            17879 non-null object\n",
      "requirements           15185 non-null object\n",
      "benefits               10670 non-null object\n",
      "telecommuting          17880 non-null int64\n",
      "has_company_logo       17880 non-null int64\n",
      "has_questions          17880 non-null int64\n",
      "employment_type        14409 non-null object\n",
      "required_experience    10830 non-null object\n",
      "required_education     9775 non-null object\n",
      "industry               12977 non-null object\n",
      "function               11425 non-null object\n",
      "fraudulent             17880 non-null int64\n",
      "dtypes: int64(5), object(13)\n",
      "memory usage: 2.5+ MB\n"
     ]
    }
   ],
   "source": [
    "data.info()"
   ]
  },
  {
   "cell_type": "code",
   "execution_count": 7,
   "metadata": {},
   "outputs": [
    {
     "data": {
      "text/plain": [
       "(17880, 18)"
      ]
     },
     "execution_count": 7,
     "metadata": {},
     "output_type": "execute_result"
    }
   ],
   "source": [
    "data.shape"
   ]
  },
  {
   "cell_type": "markdown",
   "metadata": {},
   "source": [
    "## Missing values in Data set"
   ]
  },
  {
   "cell_type": "code",
   "execution_count": 8,
   "metadata": {},
   "outputs": [
    {
     "data": {
      "text/plain": [
       "job_id                 0.000000\n",
       "title                  0.000000\n",
       "location               0.019351\n",
       "department             0.645805\n",
       "salary_range           0.839597\n",
       "company_profile        0.185011\n",
       "description            0.000056\n",
       "requirements           0.150727\n",
       "benefits               0.403244\n",
       "telecommuting          0.000000\n",
       "has_company_logo       0.000000\n",
       "has_questions          0.000000\n",
       "employment_type        0.194128\n",
       "required_experience    0.394295\n",
       "required_education     0.453300\n",
       "industry               0.274217\n",
       "function               0.361018\n",
       "fraudulent             0.000000\n",
       "dtype: float64"
      ]
     },
     "execution_count": 8,
     "metadata": {},
     "output_type": "execute_result"
    }
   ],
   "source": [
    "# calculate null values\n",
    "\n",
    "data.isnull().sum()/len(data)"
   ]
  },
  {
   "cell_type": "markdown",
   "metadata": {},
   "source": [
    "## Output variable imbalance rate"
   ]
  },
  {
   "cell_type": "code",
   "execution_count": 12,
   "metadata": {},
   "outputs": [
    {
     "data": {
      "text/plain": [
       "0    0.951566\n",
       "1    0.048434\n",
       "Name: fraudulent, dtype: float64"
      ]
     },
     "execution_count": 12,
     "metadata": {},
     "output_type": "execute_result"
    }
   ],
   "source": [
    "data['fraudulent'].value_counts()/len(data['fraudulent'])"
   ]
  },
  {
   "cell_type": "markdown",
   "metadata": {},
   "source": [
    "## Data Exploration"
   ]
  },
  {
   "cell_type": "code",
   "execution_count": 14,
   "metadata": {},
   "outputs": [],
   "source": [
    "categorical=['department','employment_type','industry','function','required_experience',\n",
    "             'required_education','has_company_logo','has_questions','telecommuting']\n",
    "\n",
    "for var in categorical:\n",
    "    data[var]=data[var].astype('object')"
   ]
  },
  {
   "cell_type": "code",
   "execution_count": 18,
   "metadata": {},
   "outputs": [
    {
     "name": "stdout",
     "output_type": "stream",
     "text": [
      "There are 10  variable in data set \n",
      "There are 9 categorical variable in data set \n",
      "There are 0 temporal variable in data set \n",
      "There are 1 discrete variable in data set \n",
      "There are 0 continuous variable in data set\n"
     ]
    }
   ],
   "source": [
    "categorical=[var for var in data.columns if data[var].dtype=='O' ]\n",
    "temporal=[var for var in data.columns if 'Yr' in var or 'Year' in var or 'year' in var and var not in categorical]\n",
    "discrete=[var for var in data.columns if var not in temporal and var not in categorical and data[var].nunique()<11]\n",
    "continuous=[var for var in data.columns if var not in temporal and var not in categorical and var not in discrete]\n",
    "print(f'There are {len(data.columns)}  variable in data set ')\n",
    "print(f'There are {len(categorical)} categorical variable in data set ')\n",
    "print(f'There are {len(temporal)} temporal variable in data set ')\n",
    "print(f'There are {len(discrete)} discrete variable in data set ')\n",
    "print(f'There are {len(continuous)} continuous variable in data set')"
   ]
  },
  {
   "cell_type": "code",
   "execution_count": 24,
   "metadata": {},
   "outputs": [],
   "source": [
    "def checkcol(df,list):\n",
    "    for var in list:\n",
    "        print(f'There are {df[var].nunique()} unique values in the {var} variable')\n",
    "        print(f'for variable {var} there are {round (100*df[var].isnull().sum()/len(df),2)} % values are missing')\n",
    "        print(var,df[var].unique()[0:20],'\\n')"
   ]
  },
  {
   "cell_type": "code",
   "execution_count": 25,
   "metadata": {},
   "outputs": [
    {
     "name": "stdout",
     "output_type": "stream",
     "text": [
      "There are 1337 unique values in the department variable\n",
      "for variable department there are 64.58 % values are missing\n",
      "department ['Marketing' 'Success' nan 'Sales' 'ANDROIDPIT' 'HR' ' R&D' 'Engagement'\n",
      " 'Businessfriend.com' 'Medical' 'Field' 'All' 'Design' 'Production' 'ICM'\n",
      " 'General Services' 'Engineering' 'IT' 'Business Development'\n",
      " 'Human Resources'] \n",
      "\n",
      "There are 2 unique values in the telecommuting variable\n",
      "for variable telecommuting there are 0.0 % values are missing\n",
      "telecommuting [0 1] \n",
      "\n",
      "There are 2 unique values in the has_company_logo variable\n",
      "for variable has_company_logo there are 0.0 % values are missing\n",
      "has_company_logo [1 0] \n",
      "\n",
      "There are 2 unique values in the has_questions variable\n",
      "for variable has_questions there are 0.0 % values are missing\n",
      "has_questions [0 1] \n",
      "\n",
      "There are 5 unique values in the employment_type variable\n",
      "for variable employment_type there are 19.41 % values are missing\n",
      "employment_type ['Other' 'Full-time' nan 'Part-time' 'Contract' 'Temporary'] \n",
      "\n",
      "There are 7 unique values in the required_experience variable\n",
      "for variable required_experience there are 39.43 % values are missing\n",
      "required_experience ['Internship' 'Not Applicable' nan 'Mid-Senior level' 'Associate'\n",
      " 'Entry level' 'Executive' 'Director'] \n",
      "\n",
      "There are 13 unique values in the required_education variable\n",
      "for variable required_education there are 45.33 % values are missing\n",
      "required_education [nan \"Bachelor's Degree\" \"Master's Degree\" 'High School or equivalent'\n",
      " 'Unspecified' 'Some College Coursework Completed' 'Vocational'\n",
      " 'Certification' 'Associate Degree' 'Professional' 'Doctorate'\n",
      " 'Some High School Coursework' 'Vocational - Degree'\n",
      " 'Vocational - HS Diploma'] \n",
      "\n",
      "There are 131 unique values in the industry variable\n",
      "for variable industry there are 27.42 % values are missing\n",
      "industry [nan 'Marketing and Advertising' 'Computer Software'\n",
      " 'Hospital & Health Care' 'Online Media'\n",
      " 'Information Technology and Services' 'Financial Services'\n",
      " 'Management Consulting' 'Events Services' 'Internet'\n",
      " 'Facilities Services' 'Consumer Electronics' 'Telecommunications'\n",
      " 'Consumer Services' 'Construction' 'Oil & Energy' 'Education Management'\n",
      " 'Building Materials' 'Banking' 'Food & Beverages'] \n",
      "\n",
      "There are 37 unique values in the function variable\n",
      "for variable function there are 36.1 % values are missing\n",
      "function ['Marketing' 'Customer Service' nan 'Sales' 'Health Care Provider'\n",
      " 'Management' 'Information Technology' 'Other' 'Engineering'\n",
      " 'Administrative' 'Design' 'Production' 'Education' 'Supply Chain'\n",
      " 'Business Development' 'Product Management' 'Financial Analyst'\n",
      " 'Consulting' 'Human Resources' 'Project Management'] \n",
      "\n"
     ]
    }
   ],
   "source": [
    "checkcol(data,categorical)"
   ]
  },
  {
   "cell_type": "code",
   "execution_count": 19,
   "metadata": {},
   "outputs": [
    {
     "data": {
      "text/plain": [
       "Sales                                                                                                                                                                                                                                                              55100\n",
       "Engineering                                                                                                                                                                                                                                                        48700\n",
       "Marketing                                                                                                                                                                                                                                                          40100\n",
       "Operations                                                                                                                                                                                                                                                         27000\n",
       "IT                                                                                                                                                                                                                                                                 22500\n",
       "Development                                                                                                                                                                                                                                                        14600\n",
       "Product                                                                                                                                                                                                                                                            11200\n",
       "Information Technology                                                                                                                                                                                                                                              8600\n",
       "Technology                                                                                                                                                                                                                                                          7600\n",
       "Design                                                                                                                                                                                                                                                              7600\n",
       "Customer Service                                                                                                                                                                                                                                                    7300\n",
       "Finance                                                                                                                                                                                                                                                             6900\n",
       "HR                                                                                                                                                                                                                                                                  5600\n",
       "tech                                                                                                                                                                                                                                                                5500\n",
       "R&D                                                                                                                                                                                                                                                                 5400\n",
       "Creative                                                                                                                                                                                                                                                            4800\n",
       "Retail                                                                                                                                                                                                                                                              4500\n",
       "Client Services                                                                                                                                                                                                                                                     4500\n",
       "Product Development                                                                                                                                                                                                                                                 3600\n",
       "Oil and Gas                                                                                                                                                                                                                                                         3200\n",
       "Business Development                                                                                                                                                                                                                                                3200\n",
       "Production                                                                                                                                                                                                                                                          3200\n",
       "CSD Relay                                                                                                                                                                                                                                                           3100\n",
       "Maintenance                                                                                                                                                                                                                                                         3000\n",
       "Administrative                                                                                                                                                                                                                                                      3000\n",
       "Human Resources                                                                                                                                                                                                                                                     2900\n",
       "Tech                                                                                                                                                                                                                                                                2900\n",
       "Accounting                                                                                                                                                                                                                                                          2900\n",
       "Technical                                                                                                                                                                                                                                                           2900\n",
       "Administration                                                                                                                                                                                                                                                      2800\n",
       "                                                                                                                                                                                                                                                                   ...  \n",
       "Back-End Development                                                                                                                                                                                                                                                 100\n",
       "DMB                                                                                                                                                                                                                                                                  100\n",
       "Office Support                                                                                                                                                                                                                                                       100\n",
       "House Cleaning Services                                                                                                                                                                                                                                              100\n",
       "Investment Banking                                                                                                                                                                                                                                                   100\n",
       "Development & Support                                                                                                                                                                                                                                                100\n",
       "Nonprofit Only                                                                                                                                                                                                                                                       100\n",
       "Kahoots                                                                                                                                                                                                                                                              100\n",
       "Insurance                                                                                                                                                                                                                                                            100\n",
       "Clarify                                                                                                                                                                                                                                                              100\n",
       "Squiz Digital                                                                                                                                                                                                                                                        100\n",
       "Design & Development                                                                                                                                                                                                                                                 100\n",
       "CS and Ops                                                                                                                                                                                                                                                           100\n",
       "Entertainment                                                                                                                                                                                                                                                        100\n",
       "Network Operations Center                                                                                                                                                                                                                                            100\n",
       "Opearations                                                                                                                                                                                                                                                          100\n",
       "Healthcare (Community)                                                                                                                                                                                                                                               100\n",
       "CUSTOMER X TEAM                                                                                                                                                                                                                                                      100\n",
       "Organisational Development                                                                                                                                                                                                                                           100\n",
       "Business:People                                                                                                                                                                                                                                                      100\n",
       "JAAMRRB                                                                                                                                                                                                                                                              100\n",
       "Technology (Application Development)                                                                                                                                                                                                                                 100\n",
       "Private Duty                                                                                                                                                                                                                                                         100\n",
       "Business Development/Sales                                                                                                                                                                                                                                           100\n",
       "Wireless                                                                                                                                                                                                                                                             100\n",
       "Dev2 to 5 years experience in a client-facing technical role. Ability to diplomatically address customer concerns and provide feedback. A firm understanding of the technology stacks common to the Web ecosystem. A demonstrated history of creating non-trivi      100\n",
       "30517                                                                                                                                                                                                                                                                100\n",
       "Retail Pharmacy                                                                                                                                                                                                                                                      100\n",
       "Anti-Virus Software                                                                                                                                                                                                                                                  100\n",
       "Retailer Support                                                                                                                                                                                                                                                     100\n",
       "Name: department, Length: 1337, dtype: int64"
      ]
     },
     "execution_count": 19,
     "metadata": {},
     "output_type": "execute_result"
    }
   ],
   "source": [
    "100*data['department'].value_counts()"
   ]
  },
  {
   "cell_type": "code",
   "execution_count": 20,
   "metadata": {},
   "outputs": [
    {
     "data": {
      "text/plain": [
       "Information Technology    0.097819\n",
       "Sales                     0.082103\n",
       "Engineering               0.075391\n",
       "Customer Service          0.068736\n",
       "Marketing                 0.046421\n",
       "Administrative            0.035235\n",
       "Design                    0.019016\n",
       "Health Care Provider      0.018904\n",
       "Education                 0.018177\n",
       "Other                     0.018177\n",
       "Management                0.017729\n",
       "Business Development      0.012752\n",
       "Accounting/Auditing       0.011857\n",
       "Human Resources           0.011465\n",
       "Project Management        0.010235\n",
       "Finance                   0.009620\n",
       "Consulting                0.008054\n",
       "Writing/Editing           0.007383\n",
       "Art/Creative              0.007383\n",
       "Production                0.006488\n",
       "Product Management        0.006376\n",
       "Quality Assurance         0.006208\n",
       "Advertising               0.005034\n",
       "Business Analyst          0.004698\n",
       "Data Analyst              0.004586\n",
       "Public Relations          0.004251\n",
       "Manufacturing             0.004139\n",
       "General Business          0.003803\n",
       "Research                  0.002796\n",
       "Legal                     0.002629\n",
       "Strategy/Planning         0.002573\n",
       "Training                  0.002125\n",
       "Supply Chain              0.002013\n",
       "Financial Analyst         0.001846\n",
       "Distribution              0.001342\n",
       "Purchasing                0.000839\n",
       "Science                   0.000783\n",
       "Name: function, dtype: float64"
      ]
     },
     "execution_count": 20,
     "metadata": {},
     "output_type": "execute_result"
    }
   ],
   "source": [
    "data['function'].value_counts()/len(data['function'])"
   ]
  },
  {
   "cell_type": "code",
   "execution_count": 21,
   "metadata": {},
   "outputs": [
    {
     "data": {
      "text/plain": [
       "Information Technology and Services    0.096980\n",
       "Computer Software                      0.076957\n",
       "Internet                               0.059396\n",
       "Marketing and Advertising              0.046309\n",
       "Education Management                   0.045973\n",
       "Financial Services                     0.043568\n",
       "Hospital & Health Care                 0.027796\n",
       "Consumer Services                      0.020022\n",
       "Telecommunications                     0.019128\n",
       "Oil & Energy                           0.016051\n",
       "Retail                                 0.012472\n",
       "Real Estate                            0.009787\n",
       "Accounting                             0.008893\n",
       "Construction                           0.008837\n",
       "E-Learning                             0.007774\n",
       "Management Consulting                  0.007271\n",
       "Design                                 0.007215\n",
       "Staffing and Recruiting                0.007103\n",
       "Health, Wellness and Fitness           0.007103\n",
       "Insurance                              0.006879\n",
       "Automotive                             0.006711\n",
       "Logistics and Supply Chain             0.006264\n",
       "Human Resources                        0.006040\n",
       "Online Media                           0.005649\n",
       "Legal Services                         0.005425\n",
       "Apparel & Fashion                      0.005425\n",
       "Facilities Services                    0.005257\n",
       "Hospitality                            0.004922\n",
       "Computer Games                         0.004810\n",
       "Banking                                0.004698\n",
       "                                         ...   \n",
       "Motion Pictures and Film               0.000336\n",
       "Religious Institutions                 0.000336\n",
       "Investment Management                  0.000336\n",
       "Package/Freight Delivery               0.000280\n",
       "Import and Export                      0.000280\n",
       "Animation                              0.000280\n",
       "Packaging and Containers               0.000280\n",
       "Capital Markets                        0.000280\n",
       "Fishery                                0.000224\n",
       "Luxury Goods & Jewelry                 0.000224\n",
       "Commercial Real Estate                 0.000224\n",
       "Wireless                               0.000224\n",
       "Investment Banking                     0.000224\n",
       "Philanthropy                           0.000224\n",
       "Maritime                               0.000168\n",
       "Plastics                               0.000168\n",
       "Furniture                              0.000168\n",
       "Public Policy                          0.000168\n",
       "Performing Arts                        0.000168\n",
       "Mining & Metals                        0.000168\n",
       "Nanotechnology                         0.000112\n",
       "Military                               0.000112\n",
       "Libraries                              0.000112\n",
       "Textiles                               0.000112\n",
       "Shipbuilding                           0.000056\n",
       "Wine and Spirits                       0.000056\n",
       "Ranching                               0.000056\n",
       "Alternative Dispute Resolution         0.000056\n",
       "Museums and Institutions               0.000056\n",
       "Sporting Goods                         0.000056\n",
       "Name: industry, Length: 131, dtype: float64"
      ]
     },
     "execution_count": 21,
     "metadata": {},
     "output_type": "execute_result"
    }
   ],
   "source": [
    "data['industry'].value_counts()/len(data['industry'])"
   ]
  },
  {
   "cell_type": "code",
   "execution_count": 52,
   "metadata": {},
   "outputs": [
    {
     "data": {
      "text/plain": [
       "Full-time    0.649888\n",
       "Contract     0.085235\n",
       "Part-time    0.044575\n",
       "Temporary    0.013479\n",
       "Other        0.012696\n",
       "Name: employment_type, dtype: float64"
      ]
     },
     "execution_count": 52,
     "metadata": {},
     "output_type": "execute_result"
    }
   ],
   "source": [
    "data['employment_type'].value_counts()/len(data['employment_type'])"
   ]
  },
  {
   "cell_type": "markdown",
   "metadata": {},
   "source": [
    "# Location with maximum fake job posting"
   ]
  },
  {
   "cell_type": "code",
   "execution_count": 10,
   "metadata": {},
   "outputs": [
    {
     "data": {
      "text/plain": [
       "<matplotlib.axes._subplots.AxesSubplot at 0x1af3b6ca7b8>"
      ]
     },
     "execution_count": 10,
     "metadata": {},
     "output_type": "execute_result"
    },
    {
     "data": {
      "image/png": "[encoded data removed]",
      "text/plain": [
       "<Figure size 1152x504 with 1 Axes>"
      ]
     },
     "metadata": {
      "needs_background": "light"
     },
     "output_type": "display_data"
    }
   ],
   "source": [
    "fig, ax = plt.subplots(nrows=1, ncols=1, figsize=(16,7))\n",
    "ax.set_xticklabels(s, rotation='vertical')\n",
    "s=data.loc[data['fraudulent']==1].groupby('location')['fraudulent'].count().sort_values(ascending=False)\n",
    "s=s.head(10)\n",
    "sns.barplot(x=s.index,y=s, palette='coolwarm',ax=ax)\n"
   ]
  },
  {
   "cell_type": "markdown",
   "metadata": {},
   "source": [
    "# Which Employment Type has the maximum Fake job listings"
   ]
  },
  {
   "cell_type": "code",
   "execution_count": 54,
   "metadata": {},
   "outputs": [
    {
     "data": {
      "text/plain": [
       "<matplotlib.axes._subplots.AxesSubplot at 0x1ac4253cb70>"
      ]
     },
     "execution_count": 54,
     "metadata": {},
     "output_type": "execute_result"
    },
    {
     "data": {
      "image/png": "[encoded data removed]",
      "text/plain": [
       "<Figure size 1152x504 with 1 Axes>"
      ]
     },
     "metadata": {
      "needs_background": "light"
     },
     "output_type": "display_data"
    }
   ],
   "source": [
    "fig, ax = plt.subplots(nrows=1, ncols=1, figsize=(16,7))\n",
    "ax.set_xticklabels(s, rotation='vertical')\n",
    "s=data.loc[data['fraudulent']==1].groupby('employment_type')['fraudulent'].count().sort_values(ascending=False)\n",
    "\n",
    "sns.barplot(x=s.index,y=s, palette='coolwarm',ax=ax)\n"
   ]
  },
  {
   "cell_type": "markdown",
   "metadata": {},
   "source": [
    "# Which Industry has maximum Fake job listings"
   ]
  },
  {
   "cell_type": "code",
   "execution_count": 45,
   "metadata": {},
   "outputs": [
    {
     "data": {
      "text/plain": [
       "<matplotlib.axes._subplots.AxesSubplot at 0x1ac42f00be0>"
      ]
     },
     "execution_count": 45,
     "metadata": {},
     "output_type": "execute_result"
    },
    {
     "data": {
      "image/png": "[encoded data removed]",
      "text/plain": [
       "<Figure size 1152x504 with 1 Axes>"
      ]
     },
     "metadata": {
      "needs_background": "light"
     },
     "output_type": "display_data"
    }
   ],
   "source": [
    "fig, ax = plt.subplots(nrows=1, ncols=1, figsize=(16,7))\n",
    "ax.set_xticklabels(s, rotation='vertical')\n",
    "s=data.loc[data['fraudulent']==1].groupby('industry')['fraudulent'].count().sort_values(ascending=False)\n",
    "s=s.head(10)\n",
    "#print(s,'\\n')\n",
    "sns.barplot(x=s.index,y=s, palette='coolwarm',ax=ax)\n"
   ]
  },
  {
   "cell_type": "markdown",
   "metadata": {},
   "source": [
    "# Which Function has the maximum Fake job Listings"
   ]
  },
  {
   "cell_type": "code",
   "execution_count": 48,
   "metadata": {},
   "outputs": [
    {
     "data": {
      "text/plain": [
       "<matplotlib.axes._subplots.AxesSubplot at 0x1ac42d17ac8>"
      ]
     },
     "execution_count": 48,
     "metadata": {},
     "output_type": "execute_result"
    },
    {
     "data": {
      "image/png": "[encoded data removed]",
      "text/plain": [
       "<Figure size 1152x504 with 1 Axes>"
      ]
     },
     "metadata": {
      "needs_background": "light"
     },
     "output_type": "display_data"
    }
   ],
   "source": [
    "fig, ax = plt.subplots(nrows=1, ncols=1, figsize=(16,7))\n",
    "ax.set_xticklabels(s, rotation='vertical')\n",
    "s=data.loc[data['fraudulent']==1].groupby('function')['fraudulent'].count().sort_values(ascending=False)\n",
    "s=s.head(10)\n",
    "#print(s,'\\n')\n",
    "sns.barplot(x=s.index,y=s, palette='coolwarm',ax=ax)"
   ]
  },
  {
   "cell_type": "markdown",
   "metadata": {},
   "source": []
  },
  {
   "cell_type": "markdown",
   "metadata": {},
   "source": [
    "# Train Test Split"
   ]
  },
  {
   "cell_type": "code",
   "execution_count": 118,
   "metadata": {},
   "outputs": [
    {
     "data": {
      "text/plain": [
       "((12516, 9), (5364, 9), (12516,))"
      ]
     },
     "execution_count": 118,
     "metadata": {},
     "output_type": "execute_result"
    }
   ],
   "source": [
    "x_train, x_test, y_train,y_test= train_test_split(data.drop('fraudulent',axis=1),data['fraudulent'],test_size=0.30\n",
    "                                                  ,random_state=0)\n",
    "\n",
    "x_train.shape,x_test.shape, y_train.shape"
   ]
  },
  {
   "cell_type": "code",
   "execution_count": 119,
   "metadata": {},
   "outputs": [
    {
     "data": {
      "text/plain": [
       "department             object\n",
       "telecommuting          object\n",
       "has_company_logo       object\n",
       "has_questions          object\n",
       "employment_type        object\n",
       "required_experience    object\n",
       "required_education     object\n",
       "industry               object\n",
       "function               object\n",
       "dtype: object"
      ]
     },
     "execution_count": 119,
     "metadata": {},
     "output_type": "execute_result"
    }
   ],
   "source": [
    "x_train.dtypes"
   ]
  },
  {
   "cell_type": "markdown",
   "metadata": {},
   "source": [
    "## Pipeline"
   ]
  },
  {
   "cell_type": "code",
   "execution_count": 120,
   "metadata": {},
   "outputs": [],
   "source": [
    "# pipeline for basic imputation\n",
    "# 0.017\n",
    "\n",
    "fakejob_pipe = Pipeline([\n",
    "\n",
    "             \n",
    "   ('imputer_cat_freq',mdi.FrequentCategoryImputer(variables=['department','employment_type','industry','function',\n",
    "                                                              'required_experience','required_education'])),\n",
    "    \n",
    "       # categorical encoding \n",
    "    ('encoder_rare_label_dept',\n",
    "     RareLabelCategoricalEncoder(tol=0.004235,\n",
    "                                    n_categories=10,\n",
    "                                    variables=['department'])),\n",
    "    \n",
    "        \n",
    "     ('encoder_rare_label_industry',RareLabelCategoricalEncoder(tol=0.02,\n",
    "                                    n_categories=10,\n",
    "                                    variables=['industry','function'])),\n",
    "                                               \n",
    "    ('categorical_encoder',\n",
    "     OneHotCategoricalEncoder( top_categories=None,\n",
    "                               variables=categorical, # we can select which variables to encode\n",
    "                               drop_last=True)),\n",
    "\n",
    "])"
   ]
  },
  {
   "cell_type": "code",
   "execution_count": 121,
   "metadata": {},
   "outputs": [
    {
     "data": {
      "text/plain": [
       "Pipeline(memory=None,\n",
       "         steps=[('imputer_cat_freq',\n",
       "                 FrequentCategoryImputer(variables=['department',\n",
       "                                                    'employment_type',\n",
       "                                                    'industry', 'function',\n",
       "                                                    'required_experience',\n",
       "                                                    'required_education'])),\n",
       "                ('encoder_rare_label_dept',\n",
       "                 RareLabelCategoricalEncoder(n_categories=10, tol=0.004235,\n",
       "                                             variables=['department'])),\n",
       "                ('encoder_rare_label_industry',\n",
       "                 RareLabelCategoricalEncoder(n_categories=10, tol=0.02,\n",
       "                                             variables=['industry',\n",
       "                                                        'function'])),\n",
       "                ('categorical_encoder',\n",
       "                 OneHotCategoricalEncoder(drop_last=True, top_categories=None,\n",
       "                                          variables=['department',\n",
       "                                                     'employment_type',\n",
       "                                                     'industry', 'function',\n",
       "                                                     'required_experience',\n",
       "                                                     'required_education',\n",
       "                                                     'has_company_logo',\n",
       "                                                     'has_questions',\n",
       "                                                     'telecommuting']))],\n",
       "         verbose=False)"
      ]
     },
     "execution_count": 121,
     "metadata": {},
     "output_type": "execute_result"
    }
   ],
   "source": [
    "fakejob_pipe.fit(x_train,y_train)"
   ]
  },
  {
   "cell_type": "code",
   "execution_count": 122,
   "metadata": {},
   "outputs": [],
   "source": [
    "X_test=fakejob_pipe.transform (x_test)\n",
    "X_train=fakejob_pipe.transform(x_train)"
   ]
  },
  {
   "cell_type": "code",
   "execution_count": 49,
   "metadata": {},
   "outputs": [
    {
     "name": "stdout",
     "output_type": "stream",
     "text": [
      "Collecting imblearn\n",
      "  Downloading https://files.pythonhosted.org/packages/81/a7/4179e6ebfd654bd0eac0b9c06125b8b4c96a9d0a8ff9e9507eb2a26d2d7e/imblearn-0.0-py2.py3-none-any.whl\n",
      "Collecting imbalanced-learn (from imblearn)\n",
      "  Downloading https://files.pythonhosted.org/packages/c8/73/36a13185c2acff44d601dc6107b5347e075561a49e15ddd4e69988414c3e/imbalanced_learn-0.6.2-py3-none-any.whl (163kB)\n",
      "Requirement already satisfied: scikit-learn>=0.22 in c:\\users\\ajink\\anaconda3\\lib\\site-packages (from imbalanced-learn->imblearn) (0.22.2.post1)\n",
      "Requirement already satisfied: numpy>=1.11 in c:\\users\\ajink\\anaconda3\\lib\\site-packages (from imbalanced-learn->imblearn) (1.16.4)\n",
      "Requirement already satisfied: joblib>=0.11 in c:\\users\\ajink\\anaconda3\\lib\\site-packages (from imbalanced-learn->imblearn) (0.13.2)\n",
      "Requirement already satisfied: scipy>=0.17 in c:\\users\\ajink\\anaconda3\\lib\\site-packages (from imbalanced-learn->imblearn) (1.2.1)\n",
      "Installing collected packages: imbalanced-learn, imblearn\n",
      "Successfully installed imbalanced-learn-0.6.2 imblearn-0.0\n",
      "Note: you may need to restart the kernel to use updated packages.\n"
     ]
    }
   ],
   "source": [
    "pip install imblearn"
   ]
  },
  {
   "cell_type": "markdown",
   "metadata": {},
   "source": [
    "# Simple Data Models"
   ]
  },
  {
   "cell_type": "markdown",
   "metadata": {},
   "source": [
    "## Naive Alogorithm"
   ]
  },
  {
   "cell_type": "code",
   "execution_count": 48,
   "metadata": {},
   "outputs": [
    {
     "name": "stdout",
     "output_type": "stream",
     "text": [
      "Mean Cross-validation scores: 0.4947302186371939\n",
      "\n",
      "Naive Algorithm Test Performance:  0.9095824011931395\n"
     ]
    }
   ],
   "source": [
    "from sklearn.dummy import DummyClassifier\n",
    "from sklearn.model_selection import cross_val_score\n",
    "model_dummy = DummyClassifier(strategy='stratified',random_state=123)\n",
    "model_dummy.fit(X_train,y_train)\n",
    "cv_scores = cross_val_score(model_dummy, X_train, y_train,scoring='roc_auc')\n",
    "# Mean Cross validation Score\n",
    "print(\"Mean Cross-validation scores: {}\".format(cv_scores.mean()))\n",
    "print()\n",
    "# Check test data set performance\n",
    "print(\"Naive Algorithm Test Performance: \", model_dummy.score(X_test,y_test))"
   ]
  },
  {
   "cell_type": "markdown",
   "metadata": {},
   "source": [
    "## Logistic Regression"
   ]
  },
  {
   "cell_type": "code",
   "execution_count": 49,
   "metadata": {},
   "outputs": [
    {
     "name": "stdout",
     "output_type": "stream",
     "text": [
      "Mean Cross-validation scores: 0.865556789672872\n",
      "\n",
      "Logistic.coef_: [[ 1.06372644e-01  8.97898238e-01 -9.87259673e-01  2.10454026e+00\n",
      "  -5.48775776e-01  1.59830457e+00 -1.02634344e+00 -4.89684537e-01\n",
      "   2.91518077e-01  3.50222630e-01  9.03508248e-01  9.08113216e-01\n",
      "  -1.91966004e-01 -1.93639794e+00  2.06865393e-03 -2.32582288e+00\n",
      "  -5.57011708e-01 -2.69358953e+00  2.49541600e-01 -3.27276261e-01\n",
      "   1.99419024e-01  5.79575534e-01  1.58593282e+00 -8.28496456e-01\n",
      "   7.69073973e-02  1.17943945e+00  1.97780581e-01 -4.30288541e-01\n",
      "  -1.07921870e-01 -8.29777738e-01  3.17469113e-01 -4.81185310e-01\n",
      "  -2.29782131e-01  7.39545498e-01 -2.67032502e-01 -1.52618707e-01\n",
      "  -1.54789875e-01  1.86291591e-01  9.19005718e-02 -2.91115967e-01\n",
      "  -8.49456942e-01 -3.92312491e-01  1.66981808e+00 -2.93800519e-01\n",
      "  -2.44373532e+00 -3.33130448e-01 -3.30769126e-01]]\n",
      "Logistic.intercept_: [-1.72218706]\n",
      "Logistic Train Performance:  0.9517417705337169\n",
      "Logistic Test Performance:  0.9599179716629381\n"
     ]
    }
   ],
   "source": [
    "clf = LogisticRegression(max_iter=1000).fit(X_train, y_train)\n",
    "\n",
    "cv_scores = cross_val_score(clf, X_train, y_train, scoring='roc_auc')\n",
    "\n",
    "# Mean Cross validation Score\n",
    "print(\"Mean Cross-validation scores: {}\".format(cv_scores.mean()))\n",
    "print()\n",
    "\n",
    "# Print Co-efficients\n",
    "print(\"Logistic.coef_:\", clf.coef_)\n",
    "print(\"Logistic.intercept_:\", clf.intercept_)\n",
    "\n",
    "# Check test data set performance\n",
    "print(\"Logistic Train Performance: \", clf.score(X_train,y_train))\n",
    "print(\"Logistic Test Performance: \", clf.score(X_test,y_test))\n"
   ]
  },
  {
   "cell_type": "markdown",
   "metadata": {},
   "source": [
    "## Ridge Regression"
   ]
  },
  {
   "cell_type": "code",
   "execution_count": 50,
   "metadata": {},
   "outputs": [
    {
     "name": "stdout",
     "output_type": "stream",
     "text": [
      "Best Mean Cross-validation score: 0.8582\n",
      "Ridge parameters:  {'alpha': 0.01}\n",
      "Ridge Train Performance:  0.8627751089249048\n",
      "Ridge Test Performance:  0.8421587703959955\n"
     ]
    }
   ],
   "source": [
    "ridge = Ridge()\n",
    "\n",
    "#define a list of parameters\n",
    "param_ridge = {'alpha':[0.001, 0.01,0.20] }\n",
    "\n",
    "grid_ridge = GridSearchCV(ridge, param_ridge, cv=10,scoring='roc_auc', return_train_score = True)\n",
    "grid_ridge.fit(X_train, y_train)\n",
    "\n",
    "# Mean Cross Validation Score\n",
    "print(\"Best Mean Cross-validation score: {:.4f}\".format(grid_ridge.best_score_))\n",
    "\n",
    "#find best parameters\n",
    "print('Ridge parameters: ', grid_ridge.best_params_)\n",
    "\n",
    "\n",
    "# Check test data set performance\n",
    "print(\"Ridge Train Performance: \", grid_ridge.score(X_train,y_train))\n",
    "print(\"Ridge Test Performance: \", grid_ridge.score(X_test,y_test))"
   ]
  },
  {
   "cell_type": "markdown",
   "metadata": {},
   "source": [
    "## Lasso Regression"
   ]
  },
  {
   "cell_type": "code",
   "execution_count": 51,
   "metadata": {},
   "outputs": [
    {
     "name": "stdout",
     "output_type": "stream",
     "text": [
      "Best Mean Cross-validation score: 0.8443\n",
      "Ridge parameters:  {'alpha': 0.001}\n",
      "Ridge Train Performance:  0.846635170118124\n",
      "Ridge Test Performance:  0.8339017527671322\n"
     ]
    }
   ],
   "source": [
    "lasso = Lasso()\n",
    "\n",
    "#define a list of parameters\n",
    "param_lasso = {'alpha':[0.001, 0.01,0.20] }\n",
    "\n",
    "grid_lasso = GridSearchCV(lasso, param_ridge, cv=10,scoring='roc_auc', return_train_score = True)\n",
    "grid_lasso.fit(X_train, y_train)\n",
    "\n",
    "# Mean Cross Validation Score\n",
    "print(\"Best Mean Cross-validation score: {:.4f}\".format(grid_lasso.best_score_))\n",
    "\n",
    "#find best parameters\n",
    "print('Ridge parameters: ', grid_lasso.best_params_)\n",
    "\n",
    "\n",
    "# Check test data set performance\n",
    "print(\"Ridge Train Performance: \", grid_lasso.score(X_train,y_train))\n",
    "print(\"Ridge Test Performance: \", grid_lasso.score(X_test,y_test))"
   ]
  },
  {
   "cell_type": "markdown",
   "metadata": {},
   "source": [
    "## Elastic Net"
   ]
  },
  {
   "cell_type": "code",
   "execution_count": 107,
   "metadata": {},
   "outputs": [
    {
     "name": "stdout",
     "output_type": "stream",
     "text": [
      "Best parameters:  {'alpha': 0.001, 'l1_ratio': 0.001}\n",
      "Best cross-validation score: 0.11646492980181855\n",
      "\n",
      "Training set score:  0.12489338567852638\n",
      "Test score:  0.09755978134690091\n"
     ]
    }
   ],
   "source": [
    "from sklearn.linear_model import ElasticNet\n",
    "elasticnet = ElasticNet()\n",
    "\n",
    "#define a list of parameters\n",
    "param_elasticnet = {'alpha':[0.001, 0.01,0.20], 'l1_ratio' :[0.001, 0.01,0.20]}\n",
    "\n",
    "grid_elasticnet = GridSearchCV(elasticnet , param_elasticnet, cv=10, return_train_score = True)\n",
    "grid_elasticnet.fit(X_train, y_train)\n",
    "\n",
    "grid_elasticnet_train_score = grid_elasticnet.score(X_train, y_train)\n",
    "grid_elasticnet_test_score = grid_elasticnet.score(X_test, y_test)\n",
    "\n",
    "# Find Best parameters\n",
    "print('Best parameters: ', grid_elasticnet.best_params_)\n",
    "print('Best cross-validation score:', grid_elasticnet.best_score_)\n",
    "print()\n",
    "# Performance\n",
    "print('Training set score: ', grid_elasticnet_train_score)\n",
    "print('Test score: ', grid_elasticnet_test_score)\n",
    "\n",
    "\n"
   ]
  },
  {
   "cell_type": "markdown",
   "metadata": {},
   "source": [
    "## KNN"
   ]
  },
  {
   "cell_type": "code",
   "execution_count": 56,
   "metadata": {},
   "outputs": [
    {
     "name": "stdout",
     "output_type": "stream",
     "text": [
      "Best Mean Cross-validation score: 0.7966\n",
      "\n",
      "KNN parameters:  {'n_neighbors': 4}\n",
      "KNN Train Performance:  0.8544179957237744\n",
      "KNN Test Performance:  0.8043845333886747\n"
     ]
    }
   ],
   "source": [
    "knn = KNeighborsClassifier()\n",
    "\n",
    "# define a list of parameters\n",
    "\n",
    "param_knn = {'n_neighbors': range(1,5)}\n",
    "\n",
    "#apply grid search\n",
    "grid_knn = GridSearchCV(knn, param_knn, cv=10, n_jobs=2, scoring='roc_auc')\n",
    "grid_knn.fit(X_train, y_train)\n",
    "\n",
    "# Mean Cross Validation Score\n",
    "print(\"Best Mean Cross-validation score: {:.4f}\".format(grid_knn.best_score_))\n",
    "print()\n",
    "\n",
    "#find best parameters\n",
    "print('KNN parameters: ', grid_knn.best_params_)\n",
    "\n",
    "# Check train data set performance\n",
    "print(\"KNN Train Performance: \", grid_knn.score(X_train,y_train))\n",
    "\n",
    "# Check test data set performance\n",
    "print(\"KNN Test Performance: \", grid_knn.score(X_test,y_test))"
   ]
  },
  {
   "cell_type": "markdown",
   "metadata": {},
   "source": [
    "## Decision Tree"
   ]
  },
  {
   "cell_type": "code",
   "execution_count": 57,
   "metadata": {},
   "outputs": [
    {
     "name": "stdout",
     "output_type": "stream",
     "text": [
      "Best Mean Cross-validation score: 0.8698\n",
      "\n",
      "Decision Tree parameters:  {'max_depth': 10}\n",
      "Decision Tree Performance:  0.9404839880027454\n",
      "Decision Tree Performance:  0.8677067727525708\n"
     ]
    }
   ],
   "source": [
    "from sklearn.model_selection import GridSearchCV\n",
    "from sklearn.tree import DecisionTreeClassifier\n",
    "dtree = DecisionTreeClassifier(random_state=0)\n",
    "\n",
    "#define a list of parameters\n",
    "param_dtree = {'max_depth': range(1,20)}\n",
    "\n",
    "#apply grid search\n",
    "grid_dtree = GridSearchCV(dtree, param_dtree, cv=10, return_train_score = True, scoring = 'roc_auc')\n",
    "grid_dtree.fit(X_train, y_train)\n",
    "\n",
    "# Mean Cross Validation Score\n",
    "print(\"Best Mean Cross-validation score: {:.4f}\".format(grid_dtree.best_score_))\n",
    "print()\n",
    "\n",
    "#find best parameters\n",
    "print('Decision Tree parameters: ', grid_dtree.best_params_)\n",
    "\n",
    "# Check test data set performance\n",
    "print(\"Decision Tree Performance: \", grid_dtree.score(X_train,y_train))\n",
    "\n",
    "# Check test data set performance\n",
    "print(\"Decision Tree Performance: \", grid_dtree.score(X_test,y_test))"
   ]
  },
  {
   "cell_type": "markdown",
   "metadata": {},
   "source": [
    "## SVM"
   ]
  },
  {
   "cell_type": "code",
   "execution_count": null,
   "metadata": {},
   "outputs": [],
   "source": [
    "from sklearn import svm\n",
    "supvm = svm.SVC(random_state=0)\n",
    "C = [0.1, 1, 10]\n",
    "param_svm = [{'kernel': ['rbf'],\n",
    "              'C': C,\n",
    "              'gamma': [0.01, 0.1, 1]},\n",
    "             {'kernel': ['linear'],\n",
    "              'C': C}]\n",
    "\n",
    "grid_svm = GridSearchCV(supvm, param_svm, cv=5,\n",
    "return_train_score=True,scoring = 'roc_auc')\n",
    "grid_svm.fit(X_train, y_train)"
   ]
  },
  {
   "cell_type": "code",
   "execution_count": null,
   "metadata": {},
   "outputs": [],
   "source": [
    "print('train score: ', grid_svm.score(X_train, y_train))\n",
    "print('test score: ', grid_svm.score(X_train, y_train))\n",
    "print(\"Best parameters: {}\".format(grid_svm.best_params_))\n",
    "print(\"Best cross-validation score: {:.2f}\".format(grid_svm.best_score_))"
   ]
  },
  {
   "cell_type": "markdown",
   "metadata": {},
   "source": [
    "# Ensemble Models"
   ]
  },
  {
   "cell_type": "markdown",
   "metadata": {},
   "source": [
    "## Bagging"
   ]
  },
  {
   "cell_type": "code",
   "execution_count": 27,
   "metadata": {},
   "outputs": [
    {
     "data": {
      "text/plain": [
       "GridSearchCV(cv=5, error_score=nan,\n",
       "             estimator=BaggingClassifier(base_estimator=DecisionTreeClassifier(ccp_alpha=0.0,\n",
       "                                                                               class_weight=None,\n",
       "                                                                               criterion='gini',\n",
       "                                                                               max_depth=8,\n",
       "                                                                               max_features=None,\n",
       "                                                                               max_leaf_nodes=5,\n",
       "                                                                               min_impurity_decrease=0.0,\n",
       "                                                                               min_impurity_split=None,\n",
       "                                                                               min_samples_leaf=1,\n",
       "                                                                               min_samples_split=3,\n",
       "                                                                               min_weight_fraction_leaf=0.0,\n",
       "                                                                               presort='deprecated',\n",
       "                                                                               random_state=None,\n",
       "                                                                               splitter='random'),\n",
       "                                         bootstrap=True,\n",
       "                                         bootstrap_features=False,\n",
       "                                         max_features=1.0, max_samples=1.0,\n",
       "                                         n_estimators=10, n_jobs=None,\n",
       "                                         oob_score=True, random_state=0,\n",
       "                                         verbose=0, warm_start=False),\n",
       "             iid='deprecated', n_jobs=None,\n",
       "             param_grid={'max_samples': [0.8, 1],\n",
       "                         'n_estimators': [10, 25, 100]},\n",
       "             pre_dispatch='2*n_jobs', refit=True, return_train_score=True,\n",
       "             scoring=None, verbose=0)"
      ]
     },
     "execution_count": 27,
     "metadata": {},
     "output_type": "execute_result"
    }
   ],
   "source": [
    "bag_dtree = BaggingClassifier(DecisionTreeClassifier(max_depth= 8, max_leaf_nodes=5, min_samples_split= 3, \n",
    "                                                     splitter= 'random'), bootstrap=True, random_state=0, \n",
    "                              oob_score=True)\n",
    "\n",
    "bag_dtree_param = {\n",
    "                 'max_samples':  [0.8,1],\n",
    "                 'n_estimators': [10,25,100]}\n",
    "bag_dtree_grid = GridSearchCV(bag_dtree, bag_dtree_param,cv=5, return_train_score=True, )\n",
    "bag_dtree_grid.fit(X_train,y_train)"
   ]
  },
  {
   "cell_type": "code",
   "execution_count": 33,
   "metadata": {},
   "outputs": [
    {
     "name": "stdout",
     "output_type": "stream",
     "text": [
      "Best Mean Cross Validation Score is 0.9519813603867053\n",
      "Best Mean Cross Validation Score is {'max_samples': 0.8, 'n_estimators': 100}\n",
      "Train score is 0.953579418344519\n",
      "Test score is 0.9634601043997018\n"
     ]
    }
   ],
   "source": [
    "print(f'Best Mean Cross Validation Score is {bag_dtree_grid.best_score_}')\n",
    "print(f'Best Mean Cross Validation Score is {bag_dtree_grid.best_params_}')\n",
    "print(f'Train score is {bag_dtree_grid.score(X_train,y_train)}')\n",
    "print(f'Test score is {bag_dtree_grid.score(X_test,y_test)}')"
   ]
  },
  {
   "cell_type": "markdown",
   "metadata": {},
   "source": [
    "## Pasting"
   ]
  },
  {
   "cell_type": "code",
   "execution_count": 28,
   "metadata": {},
   "outputs": [
    {
     "data": {
      "text/plain": [
       "GridSearchCV(cv=5, error_score=nan,\n",
       "             estimator=BaggingClassifier(base_estimator=DecisionTreeClassifier(ccp_alpha=0.0,\n",
       "                                                                               class_weight=None,\n",
       "                                                                               criterion='gini',\n",
       "                                                                               max_depth=8,\n",
       "                                                                               max_features=None,\n",
       "                                                                               max_leaf_nodes=5,\n",
       "                                                                               min_impurity_decrease=0.0,\n",
       "                                                                               min_impurity_split=None,\n",
       "                                                                               min_samples_leaf=1,\n",
       "                                                                               min_samples_split=3,\n",
       "                                                                               min_weight_fraction_leaf=0.0,\n",
       "                                                                               presort='deprecated',\n",
       "                                                                               random_state=None,\n",
       "                                                                               splitter='random'),\n",
       "                                         bootstrap=True,\n",
       "                                         bootstrap_features=False,\n",
       "                                         max_features=1.0, max_samples=1.0,\n",
       "                                         n_estimators=10, n_jobs=None,\n",
       "                                         oob_score=True, random_state=0,\n",
       "                                         verbose=0, warm_start=False),\n",
       "             iid='deprecated', n_jobs=None,\n",
       "             param_grid={'max_samples': [0.8, 1],\n",
       "                         'n_estimators': [10, 25, 100]},\n",
       "             pre_dispatch='2*n_jobs', refit=True, return_train_score=True,\n",
       "             scoring=None, verbose=0)"
      ]
     },
     "execution_count": 28,
     "metadata": {},
     "output_type": "execute_result"
    }
   ],
   "source": [
    "paste_dtree = BaggingClassifier(DecisionTreeClassifier(max_depth= 8, max_leaf_nodes=5, min_samples_split= 3, \n",
    "                                                     splitter= 'random'), bootstrap=False, random_state=0, \n",
    "                              oob_score=True)\n",
    "\n",
    "bag_dtree_param = {\n",
    "                 'max_samples':  [0.8,1],\n",
    "                 'n_estimators': [10,25,100]}\n",
    "paste_dtree_grid = GridSearchCV(bag_dtree, bag_dtree_param,cv=5, return_train_score=True, )\n",
    "paste_dtree_grid.fit(X_train,y_train)"
   ]
  },
  {
   "cell_type": "code",
   "execution_count": 29,
   "metadata": {},
   "outputs": [
    {
     "name": "stdout",
     "output_type": "stream",
     "text": [
      "Best Mean Cross Validation Score is 0.9519813603867053\n",
      "Best Mean Cross Validation Score is {'max_samples': 0.8, 'n_estimators': 100}\n",
      "Train score is 0.953579418344519\n",
      "Test score is 0.9634601043997018\n"
     ]
    }
   ],
   "source": [
    "print(f'Best Mean Cross Validation Score is {paste_dtree_grid.best_score_}')\n",
    "print(f'Best Mean Cross Validation Score is {paste_dtree_grid.best_params_}')\n",
    "print(f'Train score is {paste_dtree_grid.score(X_train,y_train)}')\n",
    "print(f'Test score is {paste_dtree_grid.score(X_test,y_test)}')"
   ]
  },
  {
   "cell_type": "markdown",
   "metadata": {},
   "source": [
    "## Random Forrest"
   ]
  },
  {
   "cell_type": "code",
   "execution_count": 179,
   "metadata": {},
   "outputs": [
    {
     "data": {
      "text/plain": [
       "GridSearchCV(cv=5, error_score=nan,\n",
       "             estimator=RandomForestClassifier(bootstrap=True, ccp_alpha=0.0,\n",
       "                                              class_weight=None,\n",
       "                                              criterion='gini', max_depth=None,\n",
       "                                              max_features='auto',\n",
       "                                              max_leaf_nodes=None,\n",
       "                                              max_samples=None,\n",
       "                                              min_impurity_decrease=0.0,\n",
       "                                              min_impurity_split=None,\n",
       "                                              min_samples_leaf=1,\n",
       "                                              min_samples_split=2,\n",
       "                                              min_weight_fraction_leaf=0.0,\n",
       "                                              n_estimators=100, n_jobs=None,\n",
       "                                              oob_score=True, random_state=42,\n",
       "                                              verbose=0, warm_start=False),\n",
       "             iid='deprecated', n_jobs=None,\n",
       "             param_grid={'criterion': ['gini', 'entropy'],\n",
       "                         'max_depth': [2, 4, 5, 6, 7, 8],\n",
       "                         'max_features': ['auto', 'sqrt', 'log2'],\n",
       "                         'n_estimators': [200, 500]},\n",
       "             pre_dispatch='2*n_jobs', refit=True, return_train_score=True,\n",
       "             scoring=None, verbose=0)"
      ]
     },
     "execution_count": 179,
     "metadata": {},
     "output_type": "execute_result"
    }
   ],
   "source": [
    "from sklearn.ensemble import RandomForestClassifier\n",
    "rfc =RandomForestClassifier(random_state=42,oob_score=True)\n",
    "rfc_param = { \n",
    "    'n_estimators': [200, 500],\n",
    "    'max_features': ['auto', 'sqrt', 'log2'],\n",
    "    'max_depth' : [2,4,5,6,7,8],\n",
    "    \n",
    "    'criterion' :['gini', 'entropy']\n",
    "}\n",
    "\n",
    "rfc_grid = GridSearchCV(rfc, rfc_param,cv=5, return_train_score=True, )\n",
    "rfc_grid.fit(X_train,y_train)"
   ]
  },
  {
   "cell_type": "code",
   "execution_count": 36,
   "metadata": {},
   "outputs": [
    {
     "data": {
      "text/plain": [
       "dict_keys(['cv', 'error_score', 'estimator__bootstrap', 'estimator__ccp_alpha', 'estimator__class_weight', 'estimator__criterion', 'estimator__max_depth', 'estimator__max_features', 'estimator__max_leaf_nodes', 'estimator__max_samples', 'estimator__min_impurity_decrease', 'estimator__min_impurity_split', 'estimator__min_samples_leaf', 'estimator__min_samples_split', 'estimator__min_weight_fraction_leaf', 'estimator__n_estimators', 'estimator__n_jobs', 'estimator__oob_score', 'estimator__random_state', 'estimator__verbose', 'estimator__warm_start', 'estimator', 'iid', 'n_jobs', 'param_grid', 'pre_dispatch', 'refit', 'return_train_score', 'scoring', 'verbose'])"
      ]
     },
     "execution_count": 36,
     "metadata": {},
     "output_type": "execute_result"
    }
   ],
   "source": [
    "rfc_grid.get_params().keys()"
   ]
  },
  {
   "cell_type": "code",
   "execution_count": 180,
   "metadata": {},
   "outputs": [
    {
     "name": "stdout",
     "output_type": "stream",
     "text": [
      "Best Mean Cross Validation Score is 0.9527005931540298\n",
      "Best Mean Cross Validation Score is {'criterion': 'gini', 'max_depth': 8, 'max_features': 'auto', 'n_estimators': 500}\n",
      "Train score is 0.9534196228827101\n",
      "Test score is 0.9606636838180462\n"
     ]
    }
   ],
   "source": [
    "print(f'Best Mean Cross Validation Score is {rfc_grid.best_score_}')\n",
    "print(f'Best Mean Cross Validation Score is {rfc_grid.best_params_}')\n",
    "print(f'Train score is {rfc_grid.score(X_train,y_train)}')\n",
    "print(f'Test score is {rfc_grid.score(X_test,y_test)}')"
   ]
  },
  {
   "cell_type": "markdown",
   "metadata": {},
   "source": [
    "## Extra Trees"
   ]
  },
  {
   "cell_type": "code",
   "execution_count": 60,
   "metadata": {},
   "outputs": [
    {
     "data": {
      "text/plain": [
       "GridSearchCV(cv=5, error_score=nan,\n",
       "             estimator=ExtraTreesClassifier(bootstrap=False, ccp_alpha=0.0,\n",
       "                                            class_weight=None, criterion='gini',\n",
       "                                            max_depth=None, max_features='auto',\n",
       "                                            max_leaf_nodes=None,\n",
       "                                            max_samples=None,\n",
       "                                            min_impurity_decrease=0.0,\n",
       "                                            min_impurity_split=None,\n",
       "                                            min_samples_leaf=1,\n",
       "                                            min_samples_split=2,\n",
       "                                            min_weight_fraction_leaf=0.0,\n",
       "                                            n_estimators=100, n_jobs=None,\n",
       "                                            oob_score=False, random_state=42,\n",
       "                                            verbose=0, warm_start=False),\n",
       "             iid='deprecated', n_jobs=None,\n",
       "             param_grid={'criterion': ['gini', 'entropy'],\n",
       "                         'max_depth': [2, 4, 5, 6, 7, 8],\n",
       "                         'max_features': ['auto', 'sqrt', 'log2'],\n",
       "                         'n_estimators': [200, 500]},\n",
       "             pre_dispatch='2*n_jobs', refit=True, return_train_score=True,\n",
       "             scoring=None, verbose=0)"
      ]
     },
     "execution_count": 60,
     "metadata": {},
     "output_type": "execute_result"
    }
   ],
   "source": [
    "from  sklearn.ensemble import ExtraTreesClassifier\n",
    "etc= ExtraTreesClassifier(random_state=42)\n",
    "etc_param = { \n",
    "    'n_estimators': [200, 500],\n",
    "    'max_features': ['auto', 'sqrt', 'log2'],\n",
    "    'max_depth' : [2,4,5,6,7,8],\n",
    "    'criterion' :['gini', 'entropy']\n",
    "}\n",
    "etc_grid = GridSearchCV(etc, etc_param,cv=5, return_train_score=True, )\n",
    "etc_grid.fit(X_train,y_train)"
   ]
  },
  {
   "cell_type": "code",
   "execution_count": 38,
   "metadata": {},
   "outputs": [
    {
     "data": {
      "text/plain": [
       "dict_keys(['cv', 'error_score', 'estimator__bootstrap', 'estimator__ccp_alpha', 'estimator__class_weight', 'estimator__criterion', 'estimator__max_depth', 'estimator__max_features', 'estimator__max_leaf_nodes', 'estimator__max_samples', 'estimator__min_impurity_decrease', 'estimator__min_impurity_split', 'estimator__min_samples_leaf', 'estimator__min_samples_split', 'estimator__min_weight_fraction_leaf', 'estimator__n_estimators', 'estimator__n_jobs', 'estimator__oob_score', 'estimator__random_state', 'estimator__verbose', 'estimator__warm_start', 'estimator', 'iid', 'n_jobs', 'param_grid', 'pre_dispatch', 'refit', 'return_train_score', 'scoring', 'verbose'])"
      ]
     },
     "execution_count": 38,
     "metadata": {},
     "output_type": "execute_result"
    }
   ],
   "source": [
    "etc_grid.get_params().keys()"
   ]
  },
  {
   "cell_type": "code",
   "execution_count": 61,
   "metadata": {},
   "outputs": [
    {
     "name": "stdout",
     "output_type": "stream",
     "text": [
      "Best Mean Cross Validation Score is 0.9530201457930995\n",
      "Best Mean Cross Validation Score is {'criterion': 'gini', 'max_depth': 8, 'max_features': 'auto', 'n_estimators': 500}\n",
      "Train score is 0.9534995206136145\n",
      "Test score is 0.9606636838180462\n"
     ]
    }
   ],
   "source": [
    "print(f'Best Mean Cross Validation Score is {etc_grid.best_score_}')\n",
    "print(f'Best Mean Cross Validation Score is {etc_grid.best_params_}')\n",
    "print(f'Train score is {etc_grid.score(X_train,y_train)}')\n",
    "print(f'Test score is {etc_grid.score(X_test,y_test)}')"
   ]
  },
  {
   "cell_type": "markdown",
   "metadata": {},
   "source": [
    "## Ada Boost"
   ]
  },
  {
   "cell_type": "code",
   "execution_count": 62,
   "metadata": {},
   "outputs": [
    {
     "data": {
      "text/plain": [
       "GridSearchCV(cv=5, error_score=nan,\n",
       "             estimator=AdaBoostClassifier(algorithm='SAMME.R',\n",
       "                                          base_estimator=DecisionTreeClassifier(ccp_alpha=0.0,\n",
       "                                                                                class_weight=None,\n",
       "                                                                                criterion='gini',\n",
       "                                                                                max_depth=None,\n",
       "                                                                                max_features=None,\n",
       "                                                                                max_leaf_nodes=None,\n",
       "                                                                                min_impurity_decrease=0.0,\n",
       "                                                                                min_impurity_split=None,\n",
       "                                                                                min_samples_leaf=1,\n",
       "                                                                                min_samples_split=2,\n",
       "                                                                                min_weight_fraction_leaf=0.0,\n",
       "                                                                                presort='...\n",
       "                                          learning_rate=1.0, n_estimators=50,\n",
       "                                          random_state=42),\n",
       "             iid='deprecated', n_jobs=None,\n",
       "             param_grid={'base_estimator__criterion': ['gini', 'entropy'],\n",
       "                         'base_estimator__max_depth': [2, 4, 6],\n",
       "                         'base_estimator__splitter': ['best', 'random'],\n",
       "                         'learning_rate': [0.5, 1.0, 2],\n",
       "                         'n_estimators': [100, 150]},\n",
       "             pre_dispatch='2*n_jobs', refit=True, return_train_score=True,\n",
       "             scoring=None, verbose=0)"
      ]
     },
     "execution_count": 62,
     "metadata": {},
     "output_type": "execute_result"
    }
   ],
   "source": [
    "from sklearn.ensemble import AdaBoostClassifier\n",
    "adc_dtree =AdaBoostClassifier(base_estimator=DecisionTreeClassifier(),random_state=42)\n",
    "adc_dtree_param = {\n",
    "              'base_estimator__criterion' : [\"gini\", \"entropy\"],\n",
    "              'base_estimator__splitter' :   [\"best\", \"random\"],\n",
    "              'base_estimator__max_depth' : [2,4,6],\n",
    "              'n_estimators' : [100,150],\n",
    "              'learning_rate' : [0.5,1.0,2],\n",
    "             }\n",
    "adc_dtree_grid = GridSearchCV(adc_dtree, adc_dtree_param,cv=5, return_train_score=True, )\n",
    "adc_dtree_grid.fit(X_train,y_train)"
   ]
  },
  {
   "cell_type": "code",
   "execution_count": 40,
   "metadata": {},
   "outputs": [
    {
     "data": {
      "text/plain": [
       "dict_keys(['cv', 'error_score', 'estimator__algorithm', 'estimator__base_estimator__ccp_alpha', 'estimator__base_estimator__class_weight', 'estimator__base_estimator__criterion', 'estimator__base_estimator__max_depth', 'estimator__base_estimator__max_features', 'estimator__base_estimator__max_leaf_nodes', 'estimator__base_estimator__min_impurity_decrease', 'estimator__base_estimator__min_impurity_split', 'estimator__base_estimator__min_samples_leaf', 'estimator__base_estimator__min_samples_split', 'estimator__base_estimator__min_weight_fraction_leaf', 'estimator__base_estimator__presort', 'estimator__base_estimator__random_state', 'estimator__base_estimator__splitter', 'estimator__base_estimator', 'estimator__learning_rate', 'estimator__n_estimators', 'estimator__random_state', 'estimator', 'iid', 'n_jobs', 'param_grid', 'pre_dispatch', 'refit', 'return_train_score', 'scoring', 'verbose'])"
      ]
     },
     "execution_count": 40,
     "metadata": {},
     "output_type": "execute_result"
    }
   ],
   "source": [
    "adc_dtree_grid.get_params().keys()"
   ]
  },
  {
   "cell_type": "code",
   "execution_count": 63,
   "metadata": {},
   "outputs": [
    {
     "name": "stdout",
     "output_type": "stream",
     "text": [
      "Best Mean Cross Validation Score is 0.9574145211050255\n",
      "Best Mean Cross Validation Score is {'base_estimator__criterion': 'gini', 'base_estimator__max_depth': 6, 'base_estimator__splitter': 'random', 'learning_rate': 0.5, 'n_estimators': 100}\n",
      "Train score is 0.9721156919143497\n",
      "Test score is 0.9679343773303505\n"
     ]
    }
   ],
   "source": [
    "print(f'Best Mean Cross Validation Score is {adc_dtree_grid.best_score_}')\n",
    "print(f'Best Mean Cross Validation Score is {adc_dtree_grid.best_params_}')\n",
    "print(f'Train score is {adc_dtree_grid.score(X_train,y_train)}')\n",
    "print(f'Test score is {adc_dtree_grid.score(X_test,y_test)}')"
   ]
  },
  {
   "cell_type": "markdown",
   "metadata": {},
   "source": [
    "## Gradient Boost"
   ]
  },
  {
   "cell_type": "code",
   "execution_count": 64,
   "metadata": {},
   "outputs": [
    {
     "data": {
      "text/plain": [
       "GridSearchCV(cv=5, error_score=nan,\n",
       "             estimator=GradientBoostingClassifier(ccp_alpha=0.0,\n",
       "                                                  criterion='friedman_mse',\n",
       "                                                  init=None, learning_rate=0.1,\n",
       "                                                  loss='deviance', max_depth=3,\n",
       "                                                  max_features=None,\n",
       "                                                  max_leaf_nodes=None,\n",
       "                                                  min_impurity_decrease=0.0,\n",
       "                                                  min_impurity_split=None,\n",
       "                                                  min_samples_leaf=1,\n",
       "                                                  min_samples_split=2,\n",
       "                                                  min_weight_fraction_leaf=0.0,\n",
       "                                                  n_estimators=100,\n",
       "                                                  n_iter_no_change=None,\n",
       "                                                  presort='deprecated',\n",
       "                                                  random_state=42,\n",
       "                                                  subsample=1.0, tol=0.0001,\n",
       "                                                  validation_fraction=0.1,\n",
       "                                                  verbose=0, warm_start=False),\n",
       "             iid='deprecated', n_jobs=None,\n",
       "             param_grid={'learning_rate': [0.5, 1.0, 2], 'max_depth': [2, 3, 4],\n",
       "                         'n_estimators': [100, 150]},\n",
       "             pre_dispatch='2*n_jobs', refit=True, return_train_score=True,\n",
       "             scoring=None, verbose=0)"
      ]
     },
     "execution_count": 64,
     "metadata": {},
     "output_type": "execute_result"
    }
   ],
   "source": [
    "from  sklearn.ensemble import GradientBoostingClassifier\n",
    "gbc= GradientBoostingClassifier(random_state=42)\n",
    "gbc_param = {\n",
    "              'max_depth' : [2,3,4],\n",
    "              'n_estimators' : [100,150],\n",
    "              'learning_rate' : [0.5,1.0,2],\n",
    "             }\n",
    "gbc_grid = GridSearchCV(gbc, gbc_param,cv=5, return_train_score=True, )\n",
    "gbc_grid.fit(X_train,y_train)"
   ]
  },
  {
   "cell_type": "code",
   "execution_count": 42,
   "metadata": {},
   "outputs": [
    {
     "data": {
      "text/plain": [
       "dict_keys(['cv', 'error_score', 'estimator__ccp_alpha', 'estimator__criterion', 'estimator__init', 'estimator__learning_rate', 'estimator__loss', 'estimator__max_depth', 'estimator__max_features', 'estimator__max_leaf_nodes', 'estimator__min_impurity_decrease', 'estimator__min_impurity_split', 'estimator__min_samples_leaf', 'estimator__min_samples_split', 'estimator__min_weight_fraction_leaf', 'estimator__n_estimators', 'estimator__n_iter_no_change', 'estimator__presort', 'estimator__random_state', 'estimator__subsample', 'estimator__tol', 'estimator__validation_fraction', 'estimator__verbose', 'estimator__warm_start', 'estimator', 'iid', 'n_jobs', 'param_grid', 'pre_dispatch', 'refit', 'return_train_score', 'scoring', 'verbose'])"
      ]
     },
     "execution_count": 42,
     "metadata": {},
     "output_type": "execute_result"
    }
   ],
   "source": [
    "gbc_grid.get_params().keys()"
   ]
  },
  {
   "cell_type": "code",
   "execution_count": 106,
   "metadata": {},
   "outputs": [
    {
     "name": "stdout",
     "output_type": "stream",
     "text": [
      "Best Mean Cross Validation Score is 0.9554170139602445\n",
      "Best Mean Cross Validation Score is {'learning_rate': 0.5, 'max_depth': 4, 'n_estimators': 150}\n",
      "Train score is 0.9653243847874721\n",
      "Test score is 0.9623415361670395\n"
     ]
    }
   ],
   "source": [
    "print(f'Best Mean Cross Validation Score is {gbc_grid.best_score_}')\n",
    "print(f'Best Mean Cross Validation Score is {gbc_grid.best_params_}')\n",
    "print(f'Train score is {gbc_grid.score(X_train,y_train)}')\n",
    "print(f'Test score is {gbc_grid.score(X_test,y_test)}')\n"
   ]
  },
  {
   "cell_type": "markdown",
   "metadata": {},
   "source": [
    "## XGBoost"
   ]
  },
  {
   "cell_type": "code",
   "execution_count": 66,
   "metadata": {},
   "outputs": [],
   "source": [
    "from xgboost import XGBClassifier\n",
    "from  xgboost import XGBClassifier\n",
    "xgbc= XGBClassifier(random_state=42,early_stopping_rounds=2,objective= 'binary:logistic')\n",
    "xgbc_param = {\n",
    "              'max_depth' : [2,4,6],\n",
    "              'n_estimators' : [50,100,150],\n",
    "              'learning_rate' : [0.1,0.5,0.6,0.8],\n",
    "               'min_child_weight' : [1,3,5,7],\n",
    "                'subsample':[0.6,0.7,0.8,0.9,1]\n",
    "             }\n",
    "xgbc_grid = GridSearchCV(xgbc, xgbc_param,cv=5, return_train_score=True, )\n"
   ]
  },
  {
   "cell_type": "code",
   "execution_count": 45,
   "metadata": {},
   "outputs": [
    {
     "data": {
      "text/plain": [
       "dict_keys(['cv', 'error_score', 'estimator__objective', 'estimator__base_score', 'estimator__booster', 'estimator__colsample_bylevel', 'estimator__colsample_bynode', 'estimator__colsample_bytree', 'estimator__gamma', 'estimator__gpu_id', 'estimator__importance_type', 'estimator__interaction_constraints', 'estimator__learning_rate', 'estimator__max_delta_step', 'estimator__max_depth', 'estimator__min_child_weight', 'estimator__missing', 'estimator__monotone_constraints', 'estimator__n_estimators', 'estimator__n_jobs', 'estimator__num_parallel_tree', 'estimator__random_state', 'estimator__reg_alpha', 'estimator__reg_lambda', 'estimator__scale_pos_weight', 'estimator__subsample', 'estimator__tree_method', 'estimator__validate_parameters', 'estimator__verbosity', 'estimator__early_stopping_rounds', 'estimator', 'iid', 'n_jobs', 'param_grid', 'pre_dispatch', 'refit', 'return_train_score', 'scoring', 'verbose'])"
      ]
     },
     "execution_count": 45,
     "metadata": {},
     "output_type": "execute_result"
    }
   ],
   "source": [
    "xgbc_grid.get_params().keys()"
   ]
  },
  {
   "cell_type": "code",
   "execution_count": 68,
   "metadata": {},
   "outputs": [
    {
     "name": "stdout",
     "output_type": "stream",
     "text": [
      "Best Mean Cross Validation Score is 0.957734137565273\n",
      "Best Mean Cross Validation Score is {'learning_rate': 0.5, 'max_depth': 6, 'min_child_weight': 1, 'n_estimators': 100, 'subsample': 0.7}\n",
      "Train score is 0.9688398849472675\n",
      "Test score is 0.9666293810589113\n"
     ]
    }
   ],
   "source": [
    "xgbc_grid.fit(X_train,y_train)\n",
    "print(f'Best Mean Cross Validation Score is {xgbc_grid.best_score_}')\n",
    "print(f'Best Mean Cross Validation Score is {xgbc_grid.best_params_}')\n",
    "print(f'Train score is {xgbc_grid.score(X_train,y_train)}')\n",
    "print(f'Test score is {xgbc_grid.score(X_test,y_test)}')"
   ]
  },
  {
   "cell_type": "markdown",
   "metadata": {},
   "source": [
    "# Cost Sensitive Algorithms"
   ]
  },
  {
   "cell_type": "code",
   "execution_count": 84,
   "metadata": {},
   "outputs": [],
   "source": [
    "from numpy import mean\n",
    "from sklearn.datasets import make_classification\n",
    "from sklearn.model_selection import GridSearchCV\n",
    "from sklearn.model_selection import RepeatedStratifiedKFold\n",
    "from sklearn.linear_model import LogisticRegression\n",
    "from sklearn.tree import DecisionTreeClassifier\n",
    "from sklearn.svm import SVC\n",
    "from sklearn.model_selection import cross_val_score\n",
    "from xgboost import XGBClassifier"
   ]
  },
  {
   "cell_type": "markdown",
   "metadata": {},
   "source": [
    "# # Logistic Regresion"
   ]
  },
  {
   "cell_type": "code",
   "execution_count": 101,
   "metadata": {},
   "outputs": [
    {
     "name": "stdout",
     "output_type": "stream",
     "text": [
      "Best parameters: {'class_weight': {0: 1, 1: 10}, 'penalty': 'l2'}\n",
      "Best Mean cross-validation score: 0.87\n"
     ]
    }
   ],
   "source": [
    "param_grid = {\n",
    "'class_weight': [{0:100,1:1}, {0:10,1:1}, {0:1,1:1}, {0:1,1:10}, {0:1,1:100}],\n",
    "    'penalty':['l1','l2'],\n",
    "}\n",
    "#apply grid search\n",
    "cgrid_logreg= GridSearchCV(LogisticRegression(solver='lbfgs'), param_grid, cv=10, n_jobs=-1, scoring='roc_auc')\n",
    "cgrid_logreg.fit(X_train, y_train)\n",
    "print(\"Best parameters: {}\".format(cgrid_logreg.best_params_))\n",
    "print(\"Best Mean cross-validation score: {:.2f}\".format(cgrid_logreg.best_score_))"
   ]
  },
  {
   "cell_type": "code",
   "execution_count": 80,
   "metadata": {},
   "outputs": [
    {
     "data": {
      "text/plain": [
       "dict_keys(['cv', 'error_score', 'estimator__C', 'estimator__class_weight', 'estimator__dual', 'estimator__fit_intercept', 'estimator__intercept_scaling', 'estimator__l1_ratio', 'estimator__max_iter', 'estimator__multi_class', 'estimator__n_jobs', 'estimator__penalty', 'estimator__random_state', 'estimator__solver', 'estimator__tol', 'estimator__verbose', 'estimator__warm_start', 'estimator', 'iid', 'n_jobs', 'param_grid', 'pre_dispatch', 'refit', 'return_train_score', 'scoring', 'verbose'])"
      ]
     },
     "execution_count": 80,
     "metadata": {},
     "output_type": "execute_result"
    }
   ],
   "source": [
    "cgrid_logreg.get_params().keys()"
   ]
  },
  {
   "cell_type": "markdown",
   "metadata": {},
   "source": [
    "## SVC"
   ]
  },
  {
   "cell_type": "code",
   "execution_count": 102,
   "metadata": {},
   "outputs": [
    {
     "name": "stdout",
     "output_type": "stream",
     "text": [
      "Best parameters: {'class_weight': {0: 1, 1: 10}}\n",
      "Best Mean cross-validation score: 0.90\n"
     ]
    }
   ],
   "source": [
    "param_grid = {\n",
    "'class_weight': [{0:100,1:1}, {0:10,1:1}, {0:1,1:1}, {0:1,1:10}, {0:1,1:100}],\n",
    "}\n",
    "#apply grid search\n",
    "cgrid_svc= GridSearchCV(SVC(), param_grid, cv=10, n_jobs=-1, scoring='roc_auc')\n",
    "cgrid_svc.fit(X_train, y_train)\n",
    "print(\"Best parameters: {}\".format(cgrid_svc.best_params_))\n",
    "print(\"Best Mean cross-validation score: {:.2f}\".format(cgrid_svc.best_score_))"
   ]
  },
  {
   "cell_type": "code",
   "execution_count": 89,
   "metadata": {},
   "outputs": [
    {
     "data": {
      "text/plain": [
       "dict_keys(['cv', 'error_score', 'estimator__C', 'estimator__break_ties', 'estimator__cache_size', 'estimator__class_weight', 'estimator__coef0', 'estimator__decision_function_shape', 'estimator__degree', 'estimator__gamma', 'estimator__kernel', 'estimator__max_iter', 'estimator__probability', 'estimator__random_state', 'estimator__shrinking', 'estimator__tol', 'estimator__verbose', 'estimator', 'iid', 'n_jobs', 'param_grid', 'pre_dispatch', 'refit', 'return_train_score', 'scoring', 'verbose'])"
      ]
     },
     "execution_count": 89,
     "metadata": {},
     "output_type": "execute_result"
    }
   ],
   "source": [
    "cgrid_svc.get_params().keys()"
   ]
  },
  {
   "cell_type": "markdown",
   "metadata": {},
   "source": [
    "## Decision Tree"
   ]
  },
  {
   "cell_type": "code",
   "execution_count": 103,
   "metadata": {},
   "outputs": [
    {
     "name": "stdout",
     "output_type": "stream",
     "text": [
      "Best parameters: {'class_weight': {0: 10, 1: 1}}\n",
      "Best Mean cross-validation score: 0.85\n"
     ]
    }
   ],
   "source": [
    "#decison tree\n",
    "param_grid = {\n",
    "'class_weight': [{0:100,1:1}, {0:10,1:1}, {0:1,1:1}, {0:1,1:10}, {0:1,1:100}],\n",
    "}\n",
    "#apply grid search\n",
    "cgrid_dtree= GridSearchCV(DecisionTreeClassifier(), param_grid, cv=10, n_jobs=-1, scoring='roc_auc')\n",
    "cgrid_dtree.fit(X_train, y_train)\n",
    "print(\"Best parameters: {}\".format(cgrid_dtree.best_params_))\n",
    "print(\"Best Mean cross-validation score: {:.2f}\".format(cgrid_dtree.best_score_))"
   ]
  },
  {
   "cell_type": "code",
   "execution_count": null,
   "metadata": {},
   "outputs": [],
   "source": [
    "cgrid_dtree.get_params().keys()"
   ]
  },
  {
   "cell_type": "markdown",
   "metadata": {},
   "source": [
    "## XG BOOST"
   ]
  },
  {
   "cell_type": "code",
   "execution_count": 104,
   "metadata": {},
   "outputs": [
    {
     "name": "stdout",
     "output_type": "stream",
     "text": [
      "Best parameters: {'scale_pos_weight': 1}\n",
      "Best Mean cross-validation score: 0.92\n"
     ]
    }
   ],
   "source": [
    "param_grid = {\n",
    "'scale_pos_weight': [1, 10, 25, 50, 75, 99, 100, 1000],\n",
    "}\n",
    "#apply grid search\n",
    "cgrid_xgboost= GridSearchCV(XGBClassifier(), param_grid, cv=10, n_jobs=-1, scoring='roc_auc')\n",
    "cgrid_xgboost.fit(X_train, y_train)\n",
    "print(\"Best parameters: {}\".format(cgrid_xgboost.best_params_))\n",
    "print(\"Best Mean cross-validation score: {:.2f}\".format(cgrid_xgboost.best_score_))"
   ]
  },
  {
   "cell_type": "code",
   "execution_count": 97,
   "metadata": {},
   "outputs": [
    {
     "data": {
      "text/plain": [
       "dict_keys(['cv', 'error_score', 'estimator__objective', 'estimator__base_score', 'estimator__booster', 'estimator__colsample_bylevel', 'estimator__colsample_bynode', 'estimator__colsample_bytree', 'estimator__gamma', 'estimator__gpu_id', 'estimator__importance_type', 'estimator__interaction_constraints', 'estimator__learning_rate', 'estimator__max_delta_step', 'estimator__max_depth', 'estimator__min_child_weight', 'estimator__missing', 'estimator__monotone_constraints', 'estimator__n_estimators', 'estimator__n_jobs', 'estimator__num_parallel_tree', 'estimator__random_state', 'estimator__reg_alpha', 'estimator__reg_lambda', 'estimator__scale_pos_weight', 'estimator__subsample', 'estimator__tree_method', 'estimator__validate_parameters', 'estimator__verbosity', 'estimator', 'iid', 'n_jobs', 'param_grid', 'pre_dispatch', 'refit', 'return_train_score', 'scoring', 'verbose'])"
      ]
     },
     "execution_count": 97,
     "metadata": {},
     "output_type": "execute_result"
    }
   ],
   "source": [
    "cgrid_xgboost.get_params().keys()"
   ]
  },
  {
   "cell_type": "markdown",
   "metadata": {},
   "source": [
    "## Random Forest"
   ]
  },
  {
   "cell_type": "code",
   "execution_count": 151,
   "metadata": {},
   "outputs": [
    {
     "name": "stdout",
     "output_type": "stream",
     "text": [
      "Mean ROC AUC: 0.897\n"
     ]
    }
   ],
   "source": [
    "from sklearn.model_selection import RepeatedStratifiedKFold\n",
    "rf = RandomForestClassifier(n_estimators=100, class_weight='balanced')\n",
    "cv = RepeatedStratifiedKFold(n_splits=10, n_repeats=3, random_state=1)\n",
    "scores_rf = cross_val_score(rf, X_train, y_train, scoring='roc_auc', cv=cv, n_jobs=-1)\n",
    "print('Mean ROC AUC: %.3f' % scores_rf.mean())"
   ]
  },
  {
   "cell_type": "markdown",
   "metadata": {},
   "source": [
    "# Extra Trees"
   ]
  },
  {
   "cell_type": "code",
   "execution_count": 150,
   "metadata": {},
   "outputs": [
    {
     "name": "stdout",
     "output_type": "stream",
     "text": [
      "Mean ROC AUC: 0.882\n"
     ]
    }
   ],
   "source": [
    "rf = ExtraTreesClassifier(n_estimators=50, class_weight='balanced')\n",
    "cv = RepeatedStratifiedKFold(n_splits=10, n_repeats=3, random_state=1)\n",
    "scores_etc = cross_val_score(rf, X_train, y_train, scoring='roc_auc', cv=cv, n_jobs=-1)\n",
    "print('Mean ROC AUC: %.3f' % scores_etc.mean())"
   ]
  },
  {
   "cell_type": "markdown",
   "metadata": {},
   "source": [
    "## Bagging Decision Tree"
   ]
  },
  {
   "cell_type": "code",
   "execution_count": 152,
   "metadata": {},
   "outputs": [
    {
     "name": "stdout",
     "output_type": "stream",
     "text": [
      "Mean ROC AUC: 0.914\n"
     ]
    }
   ],
   "source": [
    "from imblearn.ensemble import BalancedBaggingClassifier\n",
    "b_dtree = BalancedBaggingClassifier()\n",
    "cv = RepeatedStratifiedKFold(n_splits=10, n_repeats=3, random_state=1)\n",
    "scores_btree = cross_val_score(b_dtree, X_train, y_train, scoring='roc_auc', cv=cv, n_jobs=-1)\n",
    "print('Mean ROC AUC: %.3f' % scores_btree.mean())"
   ]
  },
  {
   "cell_type": "markdown",
   "metadata": {},
   "source": [
    "# Data Sampling Algorithm\n",
    "\n",
    "SMOTE"
   ]
  },
  {
   "cell_type": "code",
   "execution_count": 109,
   "metadata": {},
   "outputs": [],
   "source": [
    "from imblearn.over_sampling import SMOTE\n",
    "from imblearn.pipeline import Pipeline"
   ]
  },
  {
   "cell_type": "markdown",
   "metadata": {},
   "source": [
    "## Logistic Regression"
   ]
  },
  {
   "cell_type": "code",
   "execution_count": 136,
   "metadata": {},
   "outputs": [
    {
     "name": "stdout",
     "output_type": "stream",
     "text": [
      "Best parameters: {'smote__k_neighbors': 1}\n",
      "Best Mean cross-validation score: 0.8637\n"
     ]
    }
   ],
   "source": [
    "#logistic regression\n",
    "pipe_roc_lg = Pipeline([('smote',SMOTE()),('lg',LogisticRegression())])\n",
    "param_roc_lg = {'smote__k_neighbors': [1,2,3,4,5]}\n",
    "logrid_lg= GridSearchCV(pipe_roc_lg,param_roc_lg, cv=10, n_jobs=-1, scoring='roc_auc')\n",
    "logrid_lg.fit(X_train, y_train)\n",
    "print(\"Best parameters: {}\".format(logrid_lg.best_params_))\n",
    "print(\"Best Mean cross-validation score: {:.4f}\".format(logrid_lg.best_score_))"
   ]
  },
  {
   "cell_type": "code",
   "execution_count": 111,
   "metadata": {},
   "outputs": [
    {
     "data": {
      "text/plain": [
       "dict_keys(['cv', 'error_score', 'estimator__memory', 'estimator__steps', 'estimator__verbose', 'estimator__smote', 'estimator__lg', 'estimator__smote__k_neighbors', 'estimator__smote__n_jobs', 'estimator__smote__random_state', 'estimator__smote__sampling_strategy', 'estimator__lg__C', 'estimator__lg__class_weight', 'estimator__lg__dual', 'estimator__lg__fit_intercept', 'estimator__lg__intercept_scaling', 'estimator__lg__l1_ratio', 'estimator__lg__max_iter', 'estimator__lg__multi_class', 'estimator__lg__n_jobs', 'estimator__lg__penalty', 'estimator__lg__random_state', 'estimator__lg__solver', 'estimator__lg__tol', 'estimator__lg__verbose', 'estimator__lg__warm_start', 'estimator', 'iid', 'n_jobs', 'param_grid', 'pre_dispatch', 'refit', 'return_train_score', 'scoring', 'verbose'])"
      ]
     },
     "execution_count": 111,
     "metadata": {},
     "output_type": "execute_result"
    }
   ],
   "source": [
    "logrid_lg.get_params().keys()"
   ]
  },
  {
   "cell_type": "markdown",
   "metadata": {},
   "source": [
    "## Ridge Regression using SMOTE"
   ]
  },
  {
   "cell_type": "code",
   "execution_count": 115,
   "metadata": {},
   "outputs": [
    {
     "name": "stdout",
     "output_type": "stream",
     "text": [
      "Best parameters: {'model__alpha': 60, 'smote__k_neighbors': 1}\n",
      "Best Mean cross-validation score: 0.8654\n"
     ]
    }
   ],
   "source": [
    "pipe_rand_smote = Pipeline([('smote', SMOTE()), ('model', Ridge())])\n",
    "param_grid = {\n",
    "    # try different feature engineering parameters\n",
    "    'smote__k_neighbors': range(1,10),\n",
    "    #'model__n_neighbors’':range(1,5),\n",
    "    #'model__max_depth': [2,3,4,5,6],\n",
    "    #'model__alpha': [0.1,1,10,100,80,70]\n",
    "    'model__alpha': range(60,88,1)\n",
    "}\n",
    "\n",
    "#apply grid search\n",
    "gridridge_smote= GridSearchCV(pipe_rand_smote, param_grid, cv=5, n_jobs=2, scoring='roc_auc')\n",
    "gridridge_smote.fit(X_train, y_train)\n",
    "\n",
    "print(\"Best parameters: {}\".format(gridridge_smote.best_params_))\n",
    "print(\"Best Mean cross-validation score: {:.4f}\".format(gridridge_smote.best_score_))"
   ]
  },
  {
   "cell_type": "code",
   "execution_count": null,
   "metadata": {},
   "outputs": [],
   "source": [
    "gridridge_smote.get_params().keys()"
   ]
  },
  {
   "cell_type": "markdown",
   "metadata": {},
   "source": [
    "## KNN regression using SMOTE\n"
   ]
  },
  {
   "cell_type": "code",
   "execution_count": 48,
   "metadata": {},
   "outputs": [
    {
     "name": "stdout",
     "output_type": "stream",
     "text": [
      "Best parameters: {'smote__k_neighbors': 6}\n",
      "Best Mean cross-validation score: 0.85\n"
     ]
    }
   ],
   "source": [
    "pipe_rand_smote = Pipeline([('smote', SMOTE()), ('model', KNeighborsClassifier())])\n",
    "param_grid = {\n",
    "    # try different feature engineering parameters\n",
    "    'smote__k_neighbors': range(1,10),\n",
    "    #'model__n_neighbors’':range(1,5),\n",
    "    #'model__max_depth': [2,3,4,5,6],\n",
    "}\n",
    "\n",
    "#apply grid search\n",
    "grid_smote= GridSearchCV(pipe_rand_smote, param_grid, cv=5, n_jobs=2, scoring='roc_auc')\n",
    "grid_smote.fit(X_train, y_train)\n",
    "\n",
    "print(\"Best parameters: {}\".format(grid_smote.best_params_))\n",
    "print(\"Best Mean cross-validation score: {:.2f}\".format(grid_smote.best_score_))\n"
   ]
  },
  {
   "cell_type": "code",
   "execution_count": 49,
   "metadata": {},
   "outputs": [
    {
     "name": "stdout",
     "output_type": "stream",
     "text": [
      "KNN Train Performance:  0.9138722769103182\n",
      "KNN Test Performance:  0.8760542629742415\n"
     ]
    }
   ],
   "source": [
    "print(\"KNN Train Performance: \", grid_smote.score(X_train,y_train))\n",
    "\n",
    "\n",
    "# Check test data set performance\n",
    "print(\"KNN Test Performance: \", grid_smote.score(X_test,y_test))"
   ]
  },
  {
   "cell_type": "markdown",
   "metadata": {},
   "source": [
    "## Lasso Regression Using Smote"
   ]
  },
  {
   "cell_type": "code",
   "execution_count": 106,
   "metadata": {},
   "outputs": [
    {
     "name": "stdout",
     "output_type": "stream",
     "text": [
      "Best parameters: {'model__alpha': 0.001}\n",
      "Best Mean cross-validation score: 0.8637\n"
     ]
    }
   ],
   "source": [
    "pipe_rand_smote = Pipeline([('smote', SMOTE()), ('model', Lasso())])\n",
    "param_grid = {\n",
    "    # try different feature engineering parameters\n",
    "    #'smote__k_neighbors': range(1,10),\n",
    "    #'model__n_neighbors’':range(1,5),\n",
    "    #'model__max_depth': [2,3,4,5,6],\n",
    "    'model__alpha':[0.001,0.1,1,10],\n",
    "    \n",
    "}\n",
    "\n",
    "#apply grid search\n",
    "grid_smote= GridSearchCV(pipe_rand_smote, param_grid, cv=10, n_jobs=-1, scoring='roc_auc')\n",
    "grid_smote.fit(X_train, y_train)\n",
    "\n",
    "print(\"Best parameters: {}\".format(grid_smote.best_params_))\n",
    "print(\"Best Mean cross-validation score: {:.4f}\".format(grid_smote.best_score_))"
   ]
  },
  {
   "cell_type": "code",
   "execution_count": 91,
   "metadata": {},
   "outputs": [
    {
     "data": {
      "text/plain": [
       "dict_keys(['cv', 'error_score', 'estimator__memory', 'estimator__steps', 'estimator__verbose', 'estimator__smote', 'estimator__model', 'estimator__smote__k_neighbors', 'estimator__smote__n_jobs', 'estimator__smote__random_state', 'estimator__smote__sampling_strategy', 'estimator__model__alpha', 'estimator__model__copy_X', 'estimator__model__fit_intercept', 'estimator__model__max_iter', 'estimator__model__normalize', 'estimator__model__positive', 'estimator__model__precompute', 'estimator__model__random_state', 'estimator__model__selection', 'estimator__model__tol', 'estimator__model__warm_start', 'estimator', 'iid', 'n_jobs', 'param_grid', 'pre_dispatch', 'refit', 'return_train_score', 'scoring', 'verbose'])"
      ]
     },
     "execution_count": 91,
     "metadata": {},
     "output_type": "execute_result"
    }
   ],
   "source": [
    "grid_smote.get_params().keys()"
   ]
  },
  {
   "cell_type": "markdown",
   "metadata": {},
   "source": [
    "## Decision tree"
   ]
  },
  {
   "cell_type": "code",
   "execution_count": 123,
   "metadata": {},
   "outputs": [
    {
     "name": "stdout",
     "output_type": "stream",
     "text": [
      "Best parameters: {'dtree__max_depth': 10, 'dtree__max_leaf_nodes': 20, 'smote__k_neighbors': 3}\n",
      "Best Mean cross-validation score: 0.86\n"
     ]
    }
   ],
   "source": [
    "pipe_roc_dtree = Pipeline([('smote',SMOTE()),('dtree',DecisionTreeClassifier(max_depth=5))])\n",
    "param_roc_dtree = {'smote__k_neighbors': [1,2,3,4,5],\n",
    "                 'dtree__max_leaf_nodes': [10,20],\n",
    "                   'dtree__max_depth':[10,20,40]\n",
    "                  }\n",
    "ogrid_dtree= GridSearchCV(pipe_roc_dtree,param_roc_dtree, cv=10, n_jobs=2, scoring='roc_auc')\n",
    "ogrid_dtree.fit(X_train, y_train)\n",
    "print(\"Best parameters: {}\".format(ogrid_dtree.best_params_))\n",
    "print(\"Best Mean cross-validation score: {:.2f}\".format(ogrid_dtree.best_score_))"
   ]
  },
  {
   "cell_type": "code",
   "execution_count": 117,
   "metadata": {},
   "outputs": [
    {
     "data": {
      "text/plain": [
       "dict_keys(['cv', 'error_score', 'estimator__memory', 'estimator__steps', 'estimator__verbose', 'estimator__smote', 'estimator__dtree', 'estimator__smote__k_neighbors', 'estimator__smote__n_jobs', 'estimator__smote__random_state', 'estimator__smote__sampling_strategy', 'estimator__dtree__ccp_alpha', 'estimator__dtree__class_weight', 'estimator__dtree__criterion', 'estimator__dtree__max_depth', 'estimator__dtree__max_features', 'estimator__dtree__max_leaf_nodes', 'estimator__dtree__min_impurity_decrease', 'estimator__dtree__min_impurity_split', 'estimator__dtree__min_samples_leaf', 'estimator__dtree__min_samples_split', 'estimator__dtree__min_weight_fraction_leaf', 'estimator__dtree__presort', 'estimator__dtree__random_state', 'estimator__dtree__splitter', 'estimator', 'iid', 'n_jobs', 'param_grid', 'pre_dispatch', 'refit', 'return_train_score', 'scoring', 'verbose'])"
      ]
     },
     "execution_count": 117,
     "metadata": {},
     "output_type": "execute_result"
    }
   ],
   "source": [
    "ogrid_dtree.get_params().keys()"
   ]
  },
  {
   "cell_type": "markdown",
   "metadata": {},
   "source": [
    "## Randomforest"
   ]
  },
  {
   "cell_type": "code",
   "execution_count": 176,
   "metadata": {},
   "outputs": [
    {
     "name": "stdout",
     "output_type": "stream",
     "text": [
      "Best parameters: {'rf__max_depth': 20, 'smote__k_neighbors': 5}\n",
      "Best Mean cross-validation score: 0.91\n"
     ]
    }
   ],
   "source": [
    "pipe_roc_rf = Pipeline([('smote',SMOTE()),('rf',RandomForestClassifier(n_estimators=100,criterion='gini',\n",
    "                                                                       max_features='auto'))])\n",
    "param_roc_rf = {'smote__k_neighbors': [4,5,10,20,50,70,100], \n",
    "                'rf__max_depth' : [4,5,10,20,30]\n",
    "               }\n",
    "ogrid_rf= GridSearchCV(pipe_roc_rf,param_roc_rf, cv=10, n_jobs=-1, scoring='roc_auc')\n",
    "ogrid_rf.fit(X_train, y_train)\n",
    "print(\"Best parameters: {}\".format(ogrid_rf.best_params_))\n",
    "print(\"Best Mean cross-validation score: {:.2f}\".format(ogrid_rf.best_score_))"
   ]
  },
  {
   "cell_type": "code",
   "execution_count": 126,
   "metadata": {},
   "outputs": [
    {
     "data": {
      "text/plain": [
       "dict_keys(['cv', 'error_score', 'estimator__memory', 'estimator__steps', 'estimator__verbose', 'estimator__smote', 'estimator__rf', 'estimator__smote__k_neighbors', 'estimator__smote__n_jobs', 'estimator__smote__random_state', 'estimator__smote__sampling_strategy', 'estimator__rf__bootstrap', 'estimator__rf__ccp_alpha', 'estimator__rf__class_weight', 'estimator__rf__criterion', 'estimator__rf__max_depth', 'estimator__rf__max_features', 'estimator__rf__max_leaf_nodes', 'estimator__rf__max_samples', 'estimator__rf__min_impurity_decrease', 'estimator__rf__min_impurity_split', 'estimator__rf__min_samples_leaf', 'estimator__rf__min_samples_split', 'estimator__rf__min_weight_fraction_leaf', 'estimator__rf__n_estimators', 'estimator__rf__n_jobs', 'estimator__rf__oob_score', 'estimator__rf__random_state', 'estimator__rf__verbose', 'estimator__rf__warm_start', 'estimator', 'iid', 'n_jobs', 'param_grid', 'pre_dispatch', 'refit', 'return_train_score', 'scoring', 'verbose'])"
      ]
     },
     "execution_count": 126,
     "metadata": {},
     "output_type": "execute_result"
    }
   ],
   "source": [
    "ogrid_rf.get_params().keys()"
   ]
  },
  {
   "cell_type": "code",
   "execution_count": 183,
   "metadata": {},
   "outputs": [
    {
     "name": "stdout",
     "output_type": "stream",
     "text": [
      "Train Score 0.9628272474132682\n",
      "Test Score 0.9213638807682709\n"
     ]
    }
   ],
   "source": [
    "print(\"Train Score\",ogrid_rf.score(X_train, y_train))\n",
    "\n",
    "print(\"Test Score\",ogrid_rf.score(X_test, y_test))"
   ]
  },
  {
   "cell_type": "markdown",
   "metadata": {},
   "source": [
    "##  SVM"
   ]
  },
  {
   "cell_type": "code",
   "execution_count": null,
   "metadata": {},
   "outputs": [],
   "source": [
    "pipe_roc_svm = Pipeline([('smote',SMOTE()),('svm',svm.SVC(C=10,gamma=0.1,kernel='rbf'))])\n",
    "param_roc_svm = {'smote__k_neighbors': [1,2,3,4,5]}\n",
    "ogrid_svm= GridSearchCV(pipe_roc_svm,param_roc_svm, cv=10, n_jobs=-1, scoring='roc_auc')\n",
    "ogrid_svm.fit(X_train, y_train)\n",
    "print(\"Best parameters: {}\".format(ogrid_svm.best_params_))\n",
    "print(\"Best Mean cross-validation score: {:.2f}\".format(ogrid_svm.best_score_))"
   ]
  },
  {
   "cell_type": "markdown",
   "metadata": {},
   "source": [
    "## XGB"
   ]
  },
  {
   "cell_type": "code",
   "execution_count": 135,
   "metadata": {},
   "outputs": [
    {
     "name": "stdout",
     "output_type": "stream",
     "text": [
      "Best parameters: {'smote__k_neighbors': 4, 'xgb__learning_rate': 0.1}\n",
      "Best Mean cross-validation score: 0.90\n"
     ]
    }
   ],
   "source": [
    "pipe_roc_xgb = Pipeline([('smote',SMOTE()),('xgb',XGBClassifier(random_state=42,\n",
    "                                                                early_stopping_rounds=2,\n",
    "                                                                n_estimators=100,\n",
    "                                                                objective ='binary:logistic',\n",
    "                                                                max_depth = 4,\n",
    "                                                               ))])\n",
    "param_roc_xgb = {'smote__k_neighbors': [1,2,3,4,5],\n",
    "'xgb__learning_rate' : [0.1,0.5]}\n",
    "ogrid_xgb= GridSearchCV(pipe_roc_xgb,param_roc_xgb, cv=10, n_jobs=-1, scoring='roc_auc')\n",
    "ogrid_xgb.fit(X_train, y_train)\n",
    "print(\"Best parameters: {}\".format(ogrid_xgb.best_params_))\n",
    "print(\"Best Mean cross-validation score: {:.4f}\".format(ogrid_xgb.best_score_))"
   ]
  },
  {
   "cell_type": "markdown",
   "metadata": {},
   "source": [
    "# Top models"
   ]
  },
  {
   "cell_type": "code",
   "execution_count": 162,
   "metadata": {},
   "outputs": [],
   "source": [
    "classifiers={'knn': grid_knn,\n",
    "            'dtree':grid_dtree,\n",
    "             'bag_dtree':bag_dtree_grid,         \n",
    "            'paste_dtree': paste_dtree_grid,\n",
    "            'rfc': rfc_grid,\n",
    "             'etc': etc_grid,\n",
    "             'adc_dtree':adc_dtree_grid,\n",
    "             'gbc': gbc_grid,\n",
    "             'xgbc': xgbc_grid,\n",
    "            'Elastic':grid_elasticnet,\n",
    "             'Ridge':grid_ridge,\n",
    "             'Lasso':grid_lasso,\n",
    "             'XGB Smote':ogrid_xgb,\n",
    "             'rfc_smote':ogrid_rf,\n",
    "             'ridge_smote':gridridge_smote,\n",
    "             'tree_smote':ogrid_dtree,\n",
    "             'cost_logistic':cgrid_logreg,\n",
    "             'cost_svc':cgrid_svc,\n",
    "             'cost_tree':cgrid_dtree,\n",
    "             'cost_xgboost':cgrid_xgboost,\n",
    "             \n",
    "            }"
   ]
  },
  {
   "cell_type": "code",
   "execution_count": 163,
   "metadata": {},
   "outputs": [],
   "source": [
    "results_mean_std = []\n",
    "for  key, value in classifiers.items():\n",
    "    mean = value.cv_results_['mean_test_score'][value.best_index_]\n",
    "    std=value.cv_results_['std_test_score'][value.best_index_]\n",
    "     \n",
    "    results_mean_std.append({\n",
    "        \"model\": key,\n",
    "        \"mean\": mean,\n",
    "        \"std\": std\n",
    "    })"
   ]
  },
  {
   "cell_type": "code",
   "execution_count": 164,
   "metadata": {},
   "outputs": [],
   "source": [
    "# Create a Pandas DataFrame with the mean+std results\n",
    "accuracy_df = pd.DataFrame(results_mean_std, columns=['model', 'mean', 'std'])"
   ]
  },
  {
   "cell_type": "code",
   "execution_count": 165,
   "metadata": {},
   "outputs": [
    {
     "data": {
      "text/html": [
       "<div>\n",
       "<style scoped>\n",
       "    .dataframe tbody tr th:only-of-type {\n",
       "        vertical-align: middle;\n",
       "    }\n",
       "\n",
       "    .dataframe tbody tr th {\n",
       "        vertical-align: top;\n",
       "    }\n",
       "\n",
       "    .dataframe thead th {\n",
       "        text-align: right;\n",
       "    }\n",
       "</style>\n",
       "<table border=\"1\" class=\"dataframe\">\n",
       "  <thead>\n",
       "    <tr style=\"text-align: right;\">\n",
       "      <th></th>\n",
       "      <th>model</th>\n",
       "      <th>mean</th>\n",
       "      <th>std</th>\n",
       "    </tr>\n",
       "  </thead>\n",
       "  <tbody>\n",
       "    <tr>\n",
       "      <th>8</th>\n",
       "      <td>xgbc</td>\n",
       "      <td>0.957734</td>\n",
       "      <td>0.003495</td>\n",
       "    </tr>\n",
       "    <tr>\n",
       "      <th>6</th>\n",
       "      <td>adc_dtree</td>\n",
       "      <td>0.957415</td>\n",
       "      <td>0.002996</td>\n",
       "    </tr>\n",
       "    <tr>\n",
       "      <th>7</th>\n",
       "      <td>gbc</td>\n",
       "      <td>0.955417</td>\n",
       "      <td>0.003233</td>\n",
       "    </tr>\n",
       "    <tr>\n",
       "      <th>5</th>\n",
       "      <td>etc</td>\n",
       "      <td>0.953020</td>\n",
       "      <td>0.001442</td>\n",
       "    </tr>\n",
       "    <tr>\n",
       "      <th>4</th>\n",
       "      <td>rfc</td>\n",
       "      <td>0.952701</td>\n",
       "      <td>0.001441</td>\n",
       "    </tr>\n",
       "    <tr>\n",
       "      <th>2</th>\n",
       "      <td>bag_dtree</td>\n",
       "      <td>0.951981</td>\n",
       "      <td>0.001589</td>\n",
       "    </tr>\n",
       "    <tr>\n",
       "      <th>3</th>\n",
       "      <td>paste_dtree</td>\n",
       "      <td>0.951981</td>\n",
       "      <td>0.001589</td>\n",
       "    </tr>\n",
       "    <tr>\n",
       "      <th>19</th>\n",
       "      <td>cost_xgboost</td>\n",
       "      <td>0.917265</td>\n",
       "      <td>0.012525</td>\n",
       "    </tr>\n",
       "    <tr>\n",
       "      <th>13</th>\n",
       "      <td>rfc_smote</td>\n",
       "      <td>0.903501</td>\n",
       "      <td>0.013991</td>\n",
       "    </tr>\n",
       "    <tr>\n",
       "      <th>17</th>\n",
       "      <td>cost_svc</td>\n",
       "      <td>0.903121</td>\n",
       "      <td>0.014274</td>\n",
       "    </tr>\n",
       "    <tr>\n",
       "      <th>12</th>\n",
       "      <td>XGB Smote</td>\n",
       "      <td>0.899929</td>\n",
       "      <td>0.015279</td>\n",
       "    </tr>\n",
       "    <tr>\n",
       "      <th>16</th>\n",
       "      <td>cost_logistic</td>\n",
       "      <td>0.873235</td>\n",
       "      <td>0.017760</td>\n",
       "    </tr>\n",
       "    <tr>\n",
       "      <th>1</th>\n",
       "      <td>dtree</td>\n",
       "      <td>0.869793</td>\n",
       "      <td>0.027037</td>\n",
       "    </tr>\n",
       "    <tr>\n",
       "      <th>14</th>\n",
       "      <td>ridge_smote</td>\n",
       "      <td>0.865384</td>\n",
       "      <td>0.008775</td>\n",
       "    </tr>\n",
       "    <tr>\n",
       "      <th>10</th>\n",
       "      <td>Ridge</td>\n",
       "      <td>0.858237</td>\n",
       "      <td>0.024254</td>\n",
       "    </tr>\n",
       "    <tr>\n",
       "      <th>15</th>\n",
       "      <td>tree_smote</td>\n",
       "      <td>0.857915</td>\n",
       "      <td>0.017975</td>\n",
       "    </tr>\n",
       "    <tr>\n",
       "      <th>18</th>\n",
       "      <td>cost_tree</td>\n",
       "      <td>0.854562</td>\n",
       "      <td>0.032401</td>\n",
       "    </tr>\n",
       "    <tr>\n",
       "      <th>11</th>\n",
       "      <td>Lasso</td>\n",
       "      <td>0.844302</td>\n",
       "      <td>0.026594</td>\n",
       "    </tr>\n",
       "    <tr>\n",
       "      <th>0</th>\n",
       "      <td>knn</td>\n",
       "      <td>0.796630</td>\n",
       "      <td>0.030336</td>\n",
       "    </tr>\n",
       "    <tr>\n",
       "      <th>9</th>\n",
       "      <td>Elastic</td>\n",
       "      <td>0.116465</td>\n",
       "      <td>0.021860</td>\n",
       "    </tr>\n",
       "  </tbody>\n",
       "</table>\n",
       "</div>"
      ],
      "text/plain": [
       "            model      mean       std\n",
       "8            xgbc  0.957734  0.003495\n",
       "6       adc_dtree  0.957415  0.002996\n",
       "7             gbc  0.955417  0.003233\n",
       "5             etc  0.953020  0.001442\n",
       "4             rfc  0.952701  0.001441\n",
       "2       bag_dtree  0.951981  0.001589\n",
       "3     paste_dtree  0.951981  0.001589\n",
       "19   cost_xgboost  0.917265  0.012525\n",
       "13      rfc_smote  0.903501  0.013991\n",
       "17       cost_svc  0.903121  0.014274\n",
       "12      XGB Smote  0.899929  0.015279\n",
       "16  cost_logistic  0.873235  0.017760\n",
       "1           dtree  0.869793  0.027037\n",
       "14    ridge_smote  0.865384  0.008775\n",
       "10          Ridge  0.858237  0.024254\n",
       "15     tree_smote  0.857915  0.017975\n",
       "18      cost_tree  0.854562  0.032401\n",
       "11          Lasso  0.844302  0.026594\n",
       "0             knn  0.796630  0.030336\n",
       "9         Elastic  0.116465  0.021860"
      ]
     },
     "execution_count": 165,
     "metadata": {},
     "output_type": "execute_result"
    }
   ],
   "source": [
    "# Show the accuracy dataframe\n",
    "\n",
    "accuracy_df.sort_values(by=['mean'], inplace=True,ascending=False)\n",
    "accuracy_df"
   ]
  },
  {
   "cell_type": "code",
   "execution_count": 142,
   "metadata": {},
   "outputs": [],
   "source": [
    "# Create a prediction of all models on the test set\n",
    "predictions_all = {}\n",
    "for  key, value in classifiers.items():\n",
    "    # Get best estimator\n",
    "    best_model = value.best_estimator_\n",
    "    \n",
    "    # Predict test labels\n",
    "    predictions = best_model.predict(X_test)\n",
    "    \n",
    "    # Save predictions to a list\n",
    "    predictions_all[key] = predictions"
   ]
  },
  {
   "cell_type": "code",
   "execution_count": 143,
   "metadata": {},
   "outputs": [],
   "source": [
    "pred = pd.DataFrame(predictions_all)"
   ]
  },
  {
   "cell_type": "code",
   "execution_count": 144,
   "metadata": {},
   "outputs": [
    {
     "data": {
      "text/plain": [
       "Text(0.5, 1, 'Correlation of the test set label prediction between models')"
      ]
     },
     "execution_count": 144,
     "metadata": {},
     "output_type": "execute_result"
    },
    {
     "data": {
      "image/png": "[encoded data removed]",
      "text/plain": [
       "<Figure size 648x432 with 2 Axes>"
      ]
     },
     "metadata": {
      "needs_background": "light"
     },
     "output_type": "display_data"
    }
   ],
   "source": [
    "# Plot a heatmap of all correlations for easier visualization\n",
    "fig, ax = plt.subplots(nrows=1, ncols=1, figsize=(9,6))\n",
    "g = sns.heatmap(pred.corr(), annot=True, cmap='coolwarm', ax=ax)\n",
    "g.set_title('Correlation of the test set label prediction between models')"
   ]
  },
  {
   "cell_type": "code",
   "execution_count": 145,
   "metadata": {},
   "outputs": [],
   "source": [
    "def get_redundant_pairs(df):\n",
    "    '''Get diagonal and lower triangular pairs of correlation matrix'''\n",
    "    pairs_to_drop = set()\n",
    "    cols = df.columns\n",
    "    for i in range(0, df.shape[1]):\n",
    "        for j in range(0, i+1):\n",
    "            pairs_to_drop.add((cols[i], cols[j]))\n",
    "    return pairs_to_drop\n",
    "\n",
    "def get_top_abs_correlations(df, n=5):\n",
    "    au_corr = df.corr().abs().unstack()\n",
    "    labels_to_drop = get_redundant_pairs(df)\n",
    "    au_corr = au_corr.drop(labels=labels_to_drop).sort_values(ascending=True)\n",
    "    return au_corr[0:n]"
   ]
  },
  {
   "cell_type": "code",
   "execution_count": 146,
   "metadata": {},
   "outputs": [
    {
     "name": "stdout",
     "output_type": "stream",
     "text": [
      "Top Absolute Correlations\n",
      "rfc  tree_smote    0.109838\n",
      "etc  tree_smote    0.109838\n",
      "rfc  XGB Smote     0.124444\n",
      "etc  XGB Smote     0.124444\n",
      "rfc  rfc_smote     0.126478\n",
      "dtype: float64\n"
     ]
    }
   ],
   "source": [
    "print(\"Top Absolute Correlations\")\n",
    "print(get_top_abs_correlations(pred, 5))"
   ]
  },
  {
   "cell_type": "markdown",
   "metadata": {},
   "source": [
    "## Stacking"
   ]
  },
  {
   "cell_type": "code",
   "execution_count": 166,
   "metadata": {},
   "outputs": [],
   "source": [
    "#top 5 estimators\n",
    "estimators_ = [('XGBC',xgbc_grid.best_estimator_),\n",
    "('Ada Boost',adc_dtree_grid.best_estimator_),('GBC',gbc_grid.best_estimator_),\n",
    "('Extra Trees',etc_grid.best_estimator_),('Random Forrest',rfc_grid.best_estimator_)]"
   ]
  },
  {
   "cell_type": "code",
   "execution_count": 172,
   "metadata": {},
   "outputs": [
    {
     "name": "stdout",
     "output_type": "stream",
     "text": [
      "Best Mean Cross Validation Score is 0.902891367359539\n",
      "Best Mean Cross Validation params is {'final_estimator__C': 0.2, 'stack_method': 'auto'}\n",
      "Train score is 0.9699396645559605\n",
      "Test score is 0.9247255164441441\n"
     ]
    }
   ],
   "source": [
    "from sklearn.ensemble import StackingClassifier\n",
    "sclf2 = StackingClassifier(estimators= estimators_, \n",
    "                           final_estimator=LogisticRegression())\n",
    "sclf2_param = {'final_estimator__C' : [0.1,0.2],\n",
    "               'stack_method':['auto']\n",
    "              }\n",
    "\n",
    "sclf2_grid = GridSearchCV(sclf2, sclf2_param,cv=10, return_train_score=True,scoring='roc_auc' )\n",
    "sclf2_grid.fit(X_train,y_train)\n",
    "print(f'Best Mean Cross Validation Score is {sclf2_grid.best_score_}')\n",
    "print(f'Best Mean Cross Validation params is {sclf2_grid.best_params_}')\n",
    "print(f'Train score is {sclf2_grid.score(X_train,y_train)}')\n",
    "print(f'Test score is {sclf2_grid.score(X_test,y_test)}')"
   ]
  },
  {
   "cell_type": "code",
   "execution_count": 171,
   "metadata": {},
   "outputs": [
    {
     "name": "stdout",
     "output_type": "stream",
     "text": [
      "Best Mean Cross Validation Score is 0.9100134401167036\n",
      "Best Mean Cross Validation params is {'final_estimator__C': 0.1, 'stack_method': 'auto'}\n",
      "Train score is 0.9509360617692855\n",
      "Test score is 0.9193606203246895\n"
     ]
    }
   ],
   "source": [
    "from sklearn.ensemble import StackingClassifier\n",
    "sclf2 = StackingClassifier(estimators= estimators_, \n",
    "                           final_estimator=XGBClassifier())\n",
    "sclf2_param = {'final_estimator__C' : [0.1,0.2],\n",
    "               'stack_method':['auto']\n",
    "              }\n",
    "\n",
    "sclf2_grid = GridSearchCV(sclf2, sclf2_param,cv=10, return_train_score=True,scoring='roc_auc' )\n",
    "sclf2_grid.fit(X_train,y_train)\n",
    "print(f'Best Mean Cross Validation Score is {sclf2_grid.best_score_}')\n",
    "print(f'Best Mean Cross Validation params is {sclf2_grid.best_params_}')\n",
    "print(f'Train score is {sclf2_grid.score(X_train,y_train)}')\n",
    "print(f'Test score is {sclf2_grid.score(X_test,y_test)}')"
   ]
  },
  {
   "cell_type": "code",
   "execution_count": 169,
   "metadata": {},
   "outputs": [
    {
     "data": {
      "text/plain": [
       "dict_keys(['cv', 'error_score', 'estimator__cv', 'estimator__estimators', 'estimator__final_estimator__C', 'estimator__final_estimator__class_weight', 'estimator__final_estimator__dual', 'estimator__final_estimator__fit_intercept', 'estimator__final_estimator__intercept_scaling', 'estimator__final_estimator__l1_ratio', 'estimator__final_estimator__max_iter', 'estimator__final_estimator__multi_class', 'estimator__final_estimator__n_jobs', 'estimator__final_estimator__penalty', 'estimator__final_estimator__random_state', 'estimator__final_estimator__solver', 'estimator__final_estimator__tol', 'estimator__final_estimator__verbose', 'estimator__final_estimator__warm_start', 'estimator__final_estimator', 'estimator__n_jobs', 'estimator__passthrough', 'estimator__stack_method', 'estimator__verbose', 'estimator__XGBC', 'estimator__Ada Boost', 'estimator__GBC', 'estimator__Extra Trees', 'estimator__Random Forrest', 'estimator__XGBC__objective', 'estimator__XGBC__base_score', 'estimator__XGBC__booster', 'estimator__XGBC__colsample_bylevel', 'estimator__XGBC__colsample_bynode', 'estimator__XGBC__colsample_bytree', 'estimator__XGBC__gamma', 'estimator__XGBC__gpu_id', 'estimator__XGBC__importance_type', 'estimator__XGBC__interaction_constraints', 'estimator__XGBC__learning_rate', 'estimator__XGBC__max_delta_step', 'estimator__XGBC__max_depth', 'estimator__XGBC__min_child_weight', 'estimator__XGBC__missing', 'estimator__XGBC__monotone_constraints', 'estimator__XGBC__n_estimators', 'estimator__XGBC__n_jobs', 'estimator__XGBC__num_parallel_tree', 'estimator__XGBC__random_state', 'estimator__XGBC__reg_alpha', 'estimator__XGBC__reg_lambda', 'estimator__XGBC__scale_pos_weight', 'estimator__XGBC__subsample', 'estimator__XGBC__tree_method', 'estimator__XGBC__validate_parameters', 'estimator__XGBC__verbosity', 'estimator__XGBC__early_stopping_rounds', 'estimator__Ada Boost__algorithm', 'estimator__Ada Boost__base_estimator__ccp_alpha', 'estimator__Ada Boost__base_estimator__class_weight', 'estimator__Ada Boost__base_estimator__criterion', 'estimator__Ada Boost__base_estimator__max_depth', 'estimator__Ada Boost__base_estimator__max_features', 'estimator__Ada Boost__base_estimator__max_leaf_nodes', 'estimator__Ada Boost__base_estimator__min_impurity_decrease', 'estimator__Ada Boost__base_estimator__min_impurity_split', 'estimator__Ada Boost__base_estimator__min_samples_leaf', 'estimator__Ada Boost__base_estimator__min_samples_split', 'estimator__Ada Boost__base_estimator__min_weight_fraction_leaf', 'estimator__Ada Boost__base_estimator__presort', 'estimator__Ada Boost__base_estimator__random_state', 'estimator__Ada Boost__base_estimator__splitter', 'estimator__Ada Boost__base_estimator', 'estimator__Ada Boost__learning_rate', 'estimator__Ada Boost__n_estimators', 'estimator__Ada Boost__random_state', 'estimator__GBC__ccp_alpha', 'estimator__GBC__criterion', 'estimator__GBC__init', 'estimator__GBC__learning_rate', 'estimator__GBC__loss', 'estimator__GBC__max_depth', 'estimator__GBC__max_features', 'estimator__GBC__max_leaf_nodes', 'estimator__GBC__min_impurity_decrease', 'estimator__GBC__min_impurity_split', 'estimator__GBC__min_samples_leaf', 'estimator__GBC__min_samples_split', 'estimator__GBC__min_weight_fraction_leaf', 'estimator__GBC__n_estimators', 'estimator__GBC__n_iter_no_change', 'estimator__GBC__presort', 'estimator__GBC__random_state', 'estimator__GBC__subsample', 'estimator__GBC__tol', 'estimator__GBC__validation_fraction', 'estimator__GBC__verbose', 'estimator__GBC__warm_start', 'estimator__Extra Trees__bootstrap', 'estimator__Extra Trees__ccp_alpha', 'estimator__Extra Trees__class_weight', 'estimator__Extra Trees__criterion', 'estimator__Extra Trees__max_depth', 'estimator__Extra Trees__max_features', 'estimator__Extra Trees__max_leaf_nodes', 'estimator__Extra Trees__max_samples', 'estimator__Extra Trees__min_impurity_decrease', 'estimator__Extra Trees__min_impurity_split', 'estimator__Extra Trees__min_samples_leaf', 'estimator__Extra Trees__min_samples_split', 'estimator__Extra Trees__min_weight_fraction_leaf', 'estimator__Extra Trees__n_estimators', 'estimator__Extra Trees__n_jobs', 'estimator__Extra Trees__oob_score', 'estimator__Extra Trees__random_state', 'estimator__Extra Trees__verbose', 'estimator__Extra Trees__warm_start', 'estimator__Random Forrest__bootstrap', 'estimator__Random Forrest__ccp_alpha', 'estimator__Random Forrest__class_weight', 'estimator__Random Forrest__criterion', 'estimator__Random Forrest__max_depth', 'estimator__Random Forrest__max_features', 'estimator__Random Forrest__max_leaf_nodes', 'estimator__Random Forrest__max_samples', 'estimator__Random Forrest__min_impurity_decrease', 'estimator__Random Forrest__min_impurity_split', 'estimator__Random Forrest__min_samples_leaf', 'estimator__Random Forrest__min_samples_split', 'estimator__Random Forrest__min_weight_fraction_leaf', 'estimator__Random Forrest__n_estimators', 'estimator__Random Forrest__n_jobs', 'estimator__Random Forrest__oob_score', 'estimator__Random Forrest__random_state', 'estimator__Random Forrest__verbose', 'estimator__Random Forrest__warm_start', 'estimator', 'iid', 'n_jobs', 'param_grid', 'pre_dispatch', 'refit', 'return_train_score', 'scoring', 'verbose'])"
      ]
     },
     "execution_count": 169,
     "metadata": {},
     "output_type": "execute_result"
    }
   ],
   "source": [
    "sclf2_grid.get_params().keys()"
   ]
  }
 ],
 "metadata": {
  "kernelspec": {
   "display_name": "Python 3",
   "language": "python",
   "name": "python3"
  },
  "language_info": {
   "codemirror_mode": {
    "name": "ipython",
    "version": 3
   },
   "file_extension": ".py",
   "mimetype": "text/x-python",
   "name": "python",
   "nbconvert_exporter": "python",
   "pygments_lexer": "ipython3",
   "version": "3.7.3"
  }
 },
 "nbformat": 4,
 "nbformat_minor": 2
}
